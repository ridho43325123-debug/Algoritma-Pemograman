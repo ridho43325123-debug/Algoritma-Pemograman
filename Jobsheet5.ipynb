{
  "cells": [
    {
      "cell_type": "markdown",
      "metadata": {
        "id": "view-in-github",
        "colab_type": "text"
      },
      "source": [
        "<a href=\"https://colab.research.google.com/github/ridho43325123-debug/Algoritma-Pemograman/blob/main/Jobsheet5.ipynb\" target=\"_parent\"><img src=\"https://colab.research.google.com/assets/colab-badge.svg\" alt=\"Open In Colab\"/></a>"
      ]
    },
    {
      "cell_type": "markdown",
      "source": [
        "Pratikum 01"
      ],
      "metadata": {
        "id": "NfigPvQhPGnW"
      }
    },
    {
      "cell_type": "code",
      "source": [
        "teks = \"Politeknik Negeri Semarang\"\n",
        "print(teks[0])       # 'P'\n",
        "print(teks[0:11])    # 'Politeknik'\n",
        "print(teks[-8:])     # 'Semarang' 5:\n"
      ],
      "metadata": {
        "colab": {
          "base_uri": "https://localhost:8080/"
        },
        "id": "a2KpsGRrOWpj",
        "outputId": "a0df88d5-8475-4528-cc3e-f9162d664465"
      },
      "execution_count": null,
      "outputs": [
        {
          "output_type": "stream",
          "name": "stdout",
          "text": [
            "P\n",
            "Politeknik \n",
            "Semarang\n"
          ]
        }
      ]
    },
    {
      "cell_type": "markdown",
      "source": [
        "Pratikum 02\n"
      ],
      "metadata": {
        "id": "rrLixa3PPpj2"
      }
    },
    {
      "cell_type": "code",
      "source": [
        "teks = \" Politeknik Negeri Semarang \"\n",
        "print(teks.upper())\n",
        "print(teks.lower())\n",
        "print(teks.title())\n",
        "print(teks.strip())\n",
        "print(teks.split(\" \"))\n",
        "print(\"-\".join([\"Politeknik\",\"Negeri\",\"Semarang\"]))\n"
      ],
      "metadata": {
        "colab": {
          "base_uri": "https://localhost:8080/"
        },
        "id": "QRgkv22zPreq",
        "outputId": "34fe93eb-823b-464b-c9dc-af75ae70d73a"
      },
      "execution_count": null,
      "outputs": [
        {
          "output_type": "stream",
          "name": "stdout",
          "text": [
            " POLITEKNIK NEGERI SEMARANG \n",
            " politeknik negeri semarang \n",
            " Politeknik Negeri Semarang \n",
            "Politeknik Negeri Semarang\n",
            "['', 'Politeknik', 'Negeri', 'Semarang', '']\n",
            "Politeknik-Negeri-Semarang\n"
          ]
        }
      ]
    },
    {
      "cell_type": "markdown",
      "source": [
        "Pratikum 03"
      ],
      "metadata": {
        "id": "wAKjgziRP2Ko"
      }
    },
    {
      "cell_type": "code",
      "source": [
        "password = input(\"Masukkan password: \")\n",
        "\n",
        "if len(password) >= 8:\n",
        "    print(\"Password valid\")\n",
        "else:\n",
        "    print(\"Password terlalu pendek\")\n"
      ],
      "metadata": {
        "colab": {
          "base_uri": "https://localhost:8080/"
        },
        "id": "ePb1ZEWtP3zd",
        "outputId": "088d6943-e910-4e9f-e6ea-53e0a758103c"
      },
      "execution_count": null,
      "outputs": [
        {
          "output_type": "stream",
          "name": "stdout",
          "text": [
            "Masukkan password: abc\n",
            "Password terlalu pendek\n"
          ]
        }
      ]
    },
    {
      "cell_type": "markdown",
      "source": [
        "Pratikum 04"
      ],
      "metadata": {
        "id": "yUISTwIUQGqP"
      }
    },
    {
      "cell_type": "code",
      "source": [
        "nama = input(\"Masukkan nama: \")\n",
        "umur = int(input(\"Masukkan umur: \"))\n",
        "\n",
        "print(f\"Nama saya {nama}, umur {umur} tahun.\")\n"
      ],
      "metadata": {
        "colab": {
          "base_uri": "https://localhost:8080/"
        },
        "id": "84PkL1XVQJxN",
        "outputId": "7970431e-22f4-44e7-e375-ca3f9d79d99b"
      },
      "execution_count": null,
      "outputs": [
        {
          "output_type": "stream",
          "name": "stdout",
          "text": [
            "Masukkan nama: budi\n",
            "Masukkan umur: 21\n",
            "Nama saya budi, umur 21 tahun.\n"
          ]
        }
      ]
    },
    {
      "cell_type": "markdown",
      "source": [
        "Pratikum 05"
      ],
      "metadata": {
        "id": "fVrwubAzQRq6"
      }
    },
    {
      "cell_type": "code",
      "source": [
        "a = int(input(\"Masukkan nilai a: \"))\n",
        "b = int(input(\"Masukkan nilai b: \"))\n",
        "\n",
        "print(f\"Hasil penjumlahan {a}+{b} = {a+b}\")\n",
        "print(f\"Hasil pembagian {a}/{b} = {a/b:.2f}\")\n",
        "\n"
      ],
      "metadata": {
        "colab": {
          "base_uri": "https://localhost:8080/"
        },
        "id": "6VHO59j-QZUW",
        "outputId": "977cb4c1-d975-44ce-86d0-9700c302704d"
      },
      "execution_count": null,
      "outputs": [
        {
          "output_type": "stream",
          "name": "stdout",
          "text": [
            "Masukkan nilai a: 10\n",
            "Masukkan nilai b: 3\n",
            "Hasil penjumlahan 10+3 = 13\n",
            "Hasil pembagian 10/3 = 3.33\n"
          ]
        }
      ]
    },
    {
      "cell_type": "markdown",
      "source": [
        "Pratikum o6"
      ],
      "metadata": {
        "id": "rPiySW42QpmO"
      }
    },
    {
      "cell_type": "code",
      "source": [
        "angka = 123\n",
        "teks = \"456\"\n",
        "\n",
        "print(\"Nilai: \" + str(angka))\n",
        "print(int(teks) + 10)\n"
      ],
      "metadata": {
        "colab": {
          "base_uri": "https://localhost:8080/"
        },
        "id": "uXQpsh6CQtCf",
        "outputId": "300137f7-480b-4c3e-e5aa-a27f90a4d68b"
      },
      "execution_count": null,
      "outputs": [
        {
          "output_type": "stream",
          "name": "stdout",
          "text": [
            "Nilai: 123\n",
            "466\n"
          ]
        }
      ]
    },
    {
      "cell_type": "markdown",
      "source": [
        "Pratikum 07"
      ],
      "metadata": {
        "id": "yH_kKKCFQ1dk"
      }
    },
    {
      "cell_type": "code",
      "source": [
        "kalimat = \"Saya kuliah di Politeknik Negeri Semarang\"\n",
        "\n",
        "daftar_kata = kalimat.split(\" \")\n",
        "\n",
        "print(f\"Jumlah kata: {len(daftar_kata)}\")\n",
        "for i, kata in enumerate(daftar_kata, start=1):\n",
        "    print(i, kata)\n"
      ],
      "metadata": {
        "colab": {
          "base_uri": "https://localhost:8080/"
        },
        "id": "v_fL_riwQ3Yi",
        "outputId": "a469874f-f3d0-4d16-d087-4c929ba0faaa"
      },
      "execution_count": null,
      "outputs": [
        {
          "output_type": "stream",
          "name": "stdout",
          "text": [
            "Jumlah kata: 6\n",
            "1 Saya\n",
            "2 kuliah\n",
            "3 di\n",
            "4 Politeknik\n",
            "5 Negeri\n",
            "6 Semarang\n"
          ]
        }
      ]
    },
    {
      "cell_type": "markdown",
      "source": [
        "Penugasan 01"
      ],
      "metadata": {
        "id": "QbBK8QByRNGz"
      }
    },
    {
      "cell_type": "code",
      "source": [
        "teks = \"Politeknik Negeri Semarang\"\n",
        "\n",
        "print(\"Huruf pertama:\", teks[0])\n",
        "print(\"Huruf terakhir:\", teks[-1])\n",
        "print(\"Kata 'Negeri':\", teks[11:17])\n"
      ],
      "metadata": {
        "colab": {
          "base_uri": "https://localhost:8080/"
        },
        "id": "d6lMp-ZCRPWX",
        "outputId": "dcaf8b78-efdc-4225-bda8-3f5392d58dee"
      },
      "execution_count": null,
      "outputs": [
        {
          "output_type": "stream",
          "name": "stdout",
          "text": [
            "Huruf pertama: P\n",
            "Huruf terakhir: g\n",
            "Kata 'Negeri': Negeri\n"
          ]
        }
      ]
    },
    {
      "cell_type": "markdown",
      "source": [
        "Penugasan 02"
      ],
      "metadata": {
        "id": "lifuZ11oRYjS"
      }
    },
    {
      "cell_type": "code",
      "source": [
        "kalimat = input(\"Masukkan kalimat: \")\n",
        "\n",
        "print(\"Huruf kapital :\", kalimat.upper())\n",
        "print(\"Huruf kecil   :\", kalimat.lower())\n",
        "print(\"Panjang kalimat:\", len(kalimat))\n"
      ],
      "metadata": {
        "colab": {
          "base_uri": "https://localhost:8080/"
        },
        "id": "jp7hhjgFRamU",
        "outputId": "49816948-5cc9-4c52-f43d-16552c415a14"
      },
      "execution_count": null,
      "outputs": [
        {
          "output_type": "stream",
          "name": "stdout",
          "text": [
            "Masukkan kalimat: Saya suka belajar\n",
            "Huruf kapital : SAYA SUKA BELAJAR\n",
            "Huruf kecil   : saya suka belajar\n",
            "Panjang kalimat: 17\n"
          ]
        }
      ]
    },
    {
      "cell_type": "markdown",
      "source": [
        "Penugasan 03"
      ],
      "metadata": {
        "id": "HZWply_cRiXQ"
      }
    },
    {
      "cell_type": "code",
      "source": [
        "username = input(\"Masukkan username: \")\n",
        "\n",
        "if \" \" in username:\n",
        "    print(\"Error: Username tidak boleh mengandung spasi!\")\n",
        "else:\n",
        "    print(\"Username valid.\")\n"
      ],
      "metadata": {
        "colab": {
          "base_uri": "https://localhost:8080/"
        },
        "id": "wOS3B3ulRkQ7",
        "outputId": "d3f20655-c9d2-472d-f3c2-fe968e85242c"
      },
      "execution_count": null,
      "outputs": [
        {
          "output_type": "stream",
          "name": "stdout",
          "text": [
            "Masukkan username: ridho433\n",
            "Username valid.\n"
          ]
        }
      ]
    },
    {
      "cell_type": "markdown",
      "source": [
        "  Penugasan 04"
      ],
      "metadata": {
        "id": "9FFAWn_mRqNP"
      }
    },
    {
      "cell_type": "code",
      "source": [
        "nama = input(\"Masukkan nama: \")\n",
        "umur = input(\"Masukkan umur: \")\n",
        "jurusan = input(\"Masukkan jurusan: \")\n",
        "\n",
        "print(\"\\n=== BIODATA ===\")\n",
        "print(f\"Nama    : {nama}\")\n",
        "print(f\"Umur    : {umur}\")\n",
        "print(f\"Jurusan : {jurusan}\")\n"
      ],
      "metadata": {
        "colab": {
          "base_uri": "https://localhost:8080/"
        },
        "id": "ZaxOkY0SRuAz",
        "outputId": "cd0fb9ca-8ce5-469f-a4f8-878c1c3c469c"
      },
      "execution_count": null,
      "outputs": [
        {
          "output_type": "stream",
          "name": "stdout",
          "text": [
            "Masukkan nama: ridho\n",
            "Masukkan umur: 18\n",
            "Masukkan jurusan: elektro\n",
            "\n",
            "=== BIODATA ===\n",
            "Nama    : ridho\n",
            "Umur    : 18\n",
            "Jurusan : elektro\n"
          ]
        }
      ]
    },
    {
      "cell_type": "markdown",
      "source": [
        "Penugasan 05"
      ],
      "metadata": {
        "id": "ouhcSDK6Rxv0"
      }
    },
    {
      "cell_type": "code",
      "source": [
        "a = float(input(\"Masukkan bilangan pertama: \"))\n",
        "b = float(input(\"Masukkan bilangan kedua: \"))\n",
        "\n",
        "print(f\"Penjumlahan: {a + b}\")\n",
        "print(f\"Perkalian: {a * b}\")\n",
        "print(f\"Pembagian: {a / b:.3f}\")\n"
      ],
      "metadata": {
        "colab": {
          "base_uri": "https://localhost:8080/"
        },
        "id": "F6XU18bsR1UX",
        "outputId": "8f9a6216-172b-46a0-81d9-f07cd1f69cf1"
      },
      "execution_count": null,
      "outputs": [
        {
          "output_type": "stream",
          "name": "stdout",
          "text": [
            "Masukkan bilangan pertama: 12\n",
            "Masukkan bilangan kedua: 18\n",
            "Penjumlahan: 30.0\n",
            "Perkalian: 216.0\n",
            "Pembagian: 0.667\n"
          ]
        }
      ]
    },
    {
      "cell_type": "markdown",
      "source": [
        "Penugasan 06\n"
      ],
      "metadata": {
        "id": "YZDEIN_qR7AE"
      }
    },
    {
      "cell_type": "code",
      "source": [
        "angka_str = input(\"Masukkan angka: \")\n",
        "\n",
        "angka_int = int(angka_str)\n",
        "angka_float = float(angka_str)\n",
        "\n",
        "print(f\"Kuadrat (int): {angka_int ** 2}\")\n",
        "print(f\"Sebagai float: {angka_float:.2f}\")\n"
      ],
      "metadata": {
        "colab": {
          "base_uri": "https://localhost:8080/"
        },
        "id": "q3xhVkJzR93G",
        "outputId": "350ac7d2-e1eb-4990-b23c-121ef4f8c32e"
      },
      "execution_count": null,
      "outputs": [
        {
          "output_type": "stream",
          "name": "stdout",
          "text": [
            "Masukkan angka: 4\n",
            "Kuadrat (int): 16\n",
            "Sebagai float: 4.00\n"
          ]
        }
      ]
    },
    {
      "cell_type": "markdown",
      "source": [
        "Penugasan 07"
      ],
      "metadata": {
        "id": "nLeRcuAKSCTz"
      }
    },
    {
      "cell_type": "code",
      "source": [
        "kalimat = input(\"Masukkan kalimat: \")\n",
        "\n",
        "daftar_kata = kalimat.split()\n",
        "\n",
        "print(f\"Jumlah kata: {len(daftar_kata)}\")\n",
        "print(f\"Kata terpanjang: {max(daftar_kata, key=len)}\")\n",
        "print(\"Daftar kata (urut abjad):\")\n",
        "for kata in sorted(daftar_kata):\n",
        "    print(kata)\n"
      ],
      "metadata": {
        "colab": {
          "base_uri": "https://localhost:8080/"
        },
        "id": "bvyKdNewSEFu",
        "outputId": "7735742a-ec54-40f9-8a5c-99780d23d291"
      },
      "execution_count": null,
      "outputs": [
        {
          "output_type": "stream",
          "name": "stdout",
          "text": [
            "Masukkan kalimat: Saya mahasiswa baru polines\n",
            "Jumlah kata: 4\n",
            "Kata terpanjang: mahasiswa\n",
            "Daftar kata (urut abjad):\n",
            "Saya\n",
            "baru\n",
            "mahasiswa\n",
            "polines\n"
          ]
        }
      ]
    }
  ],
  "metadata": {
    "colab": {
      "provenance": [],
      "include_colab_link": true
    },
    "kernelspec": {
      "display_name": "Python 3",
      "name": "python3"
    }
  },
  "nbformat": 4,
  "nbformat_minor": 0
}