{
  "nbformat": 4,
  "nbformat_minor": 0,
  "metadata": {
    "colab": {
      "provenance": [],
      "authorship_tag": "ABX9TyOO3yXosD7G16+3j2E53zYL",
      "include_colab_link": true
    },
    "kernelspec": {
      "name": "python3",
      "display_name": "Python 3"
    },
    "language_info": {
      "name": "python"
    }
  },
  "cells": [
    {
      "cell_type": "markdown",
      "metadata": {
        "id": "view-in-github",
        "colab_type": "text"
      },
      "source": [
        "<a href=\"https://colab.research.google.com/github/ridho43325123-debug/Algoritma-Pemograman/blob/main/Jobsheet2.ipynb\" target=\"_parent\"><img src=\"https://colab.research.google.com/assets/colab-badge.svg\" alt=\"Open In Colab\"/></a>"
      ]
    },
    {
      "cell_type": "markdown",
      "source": [
        "Pratikum 1 variabel dan tipe data\n"
      ],
      "metadata": {
        "id": "BWhyVFi-aL3Q"
      }
    },
    {
      "cell_type": "markdown",
      "source": [],
      "metadata": {
        "id": "ItofjVLVc8XB"
      }
    },
    {
      "cell_type": "code",
      "source": [
        "# Integer\n",
        "umur = 20\n",
        "print(\"Umur:\", umur, \"→\", type(umur))\n",
        "\n",
        "# Float\n",
        "tinggi = 170.5\n",
        "print(\"Tinggi:\", tinggi, \"→\", type(tinggi))\n",
        "\n",
        "# String\n",
        "nama = \"Andi\"\n",
        "print(\"Nama:\", nama, \"→\", type(nama))\n",
        "\n",
        "# Boolean\n",
        "is_mahasiswa = True\n",
        "print(\"Status Mahasiswa:\", is_mahasiswa, \"→\", type(is_mahasiswa))\n",
        "\n",
        "# List\n",
        "nilai = [80, 85, 90]\n",
        "print(\"Nilai:\", nilai, \"→\", type(nilai))\n",
        "\n",
        "# Tuple\n",
        "koordinat = (10, 20)\n",
        "print(\"Koordinat:\", koordinat, \"→\", type(koordinat))\n",
        "\n",
        "# Dictionary\n",
        "mahasiswa = {\"nama\": \"Andi\", \"umur\": 20, \"prodi\": \"TRK\"}\n",
        "print(\"Data Mahasiswa:\", mahasiswa, \"→\", type(mahasiswa))\n",
        "\n",
        "# Set\n",
        "hobi = {\"membaca\", \"olahraga\", \"musik\"}\n",
        "print(\"Hobi:\", hobi, \"→\", type(hobi))\n"
      ],
      "metadata": {
        "colab": {
          "base_uri": "https://localhost:8080/"
        },
        "id": "HGBmF796aVFS",
        "outputId": "162e5fa1-8f34-42e7-b9c2-9b7324e3e973"
      },
      "execution_count": null,
      "outputs": [
        {
          "output_type": "stream",
          "name": "stdout",
          "text": [
            "Umur: 20 → <class 'int'>\n",
            "Tinggi: 170.5 → <class 'float'>\n",
            "Nama: Andi → <class 'str'>\n",
            "Status Mahasiswa: True → <class 'bool'>\n",
            "Nilai: [80, 85, 90] → <class 'list'>\n",
            "Koordinat: (10, 20) → <class 'tuple'>\n",
            "Data Mahasiswa: {'nama': 'Andi', 'umur': 20, 'prodi': 'TRK'} → <class 'dict'>\n",
            "Hobi: {'membaca', 'musik', 'olahraga'} → <class 'set'>\n"
          ]
        }
      ]
    },
    {
      "cell_type": "markdown",
      "source": [
        "Pratikum 02 Input dan Output Dasar"
      ],
      "metadata": {
        "id": "pCOrzRplhKZu"
      }
    },
    {
      "cell_type": "code",
      "source": [
        "# Input string\n",
        "nama = input(\"Masukkan nama Anda: \")\n",
        "\n",
        "# Input integer\n",
        "umur = int(input(\"Masukkan umur Anda: \"))\n",
        "\n",
        "# Input float\n",
        "tinggi = float(input(\"Masukkan tinggi badan (cm): \"))\n",
        "# Output standar\n",
        "print(\"Halo,\", nama, \"umur Anda:\", umur, \"tahun, tinggi:\", tinggi, \"cm\")\n",
        "\n",
        "# Output dengan format()\n",
        "print(\"Halo {0}, umur Anda {1} tahun, tinggi {2} cm\".format(nama, umur, tinggi))\n",
        "\n",
        "# Output dengan f-string\n",
        "print(f\"Halo {nama}, umur Anda {umur} tahun, tinggi {tinggi} cm\")\n"
      ],
      "metadata": {
        "colab": {
          "base_uri": "https://localhost:8080/"
        },
        "id": "JfoqwzwohPT6",
        "outputId": "a21e54d4-5781-4bb1-da62-3f4dc6499e3d"
      },
      "execution_count": null,
      "outputs": [
        {
          "output_type": "stream",
          "name": "stdout",
          "text": [
            "Masukkan nama Anda: ridho\n",
            "Masukkan umur Anda: 18\n",
            "Masukkan tinggi badan (cm): 173\n",
            "Halo, ridho umur Anda: 18 tahun, tinggi: 173.0 cm\n",
            "Halo ridho, umur Anda 18 tahun, tinggi 173.0 cm\n",
            "Halo ridho, umur Anda 18 tahun, tinggi 173.0 cm\n"
          ]
        }
      ]
    },
    {
      "cell_type": "markdown",
      "source": [
        "Pratikum 03 Operator Aritmatika"
      ],
      "metadata": {
        "id": "dBlL5Nx-iIC3"
      }
    },
    {
      "cell_type": "code",
      "source": [
        "a = 15\n",
        "b = 4\n",
        "print(\"a + b =\", a + b)\n",
        "print(\"a - b =\", a - b)\n",
        "print(\"a * b =\", a * b)\n",
        "print(\"a / b =\", a / b)\n",
        "print(\"a // b =\", a // b)\n",
        "print(\"a % b =\", a % b)\n",
        "print(\"a ** b =\", a ** b)\n"
      ],
      "metadata": {
        "colab": {
          "base_uri": "https://localhost:8080/"
        },
        "id": "zum2HpPEiLBG",
        "outputId": "32e4b86b-2ce5-411f-b538-931064c4bccb"
      },
      "execution_count": null,
      "outputs": [
        {
          "output_type": "stream",
          "name": "stdout",
          "text": [
            "a + b = 19\n",
            "a - b = 11\n",
            "a * b = 60\n",
            "a / b = 3.75\n",
            "a // b = 3\n",
            "a % b = 3\n",
            "a ** b = 50625\n"
          ]
        }
      ]
    },
    {
      "cell_type": "markdown",
      "source": [
        "Pratikum 04 Operator Relasional\n"
      ],
      "metadata": {
        "id": "vOlX5H23jKAz"
      }
    },
    {
      "cell_type": "code",
      "source": [
        "x = 10\n",
        "y = 20\n",
        "b = False\n",
        "\n",
        "print(\"x == y :\", x == y)\n",
        "print(\"x != y :\", x != y)\n",
        "print(\"x < y  :\", x < y)\n",
        "print(\"x > y  :\", x > y)\n",
        "print(\"x <= y :\", x <= y)\n",
        "print(\"x >= y :\", x >= y)\n"
      ],
      "metadata": {
        "colab": {
          "base_uri": "https://localhost:8080/"
        },
        "id": "bkv_0_YGjPxY",
        "outputId": "30b8f62a-a208-4a40-add0-8c4e7086e985"
      },
      "execution_count": null,
      "outputs": [
        {
          "output_type": "stream",
          "name": "stdout",
          "text": [
            "x == y : False\n",
            "x != y : True\n",
            "x < y  : True\n",
            "x > y  : False\n",
            "x <= y : True\n",
            "x >= y : False\n"
          ]
        }
      ]
    },
    {
      "cell_type": "markdown",
      "source": [
        "Pratikum 05 Operator Logika dengan Studi Kasus Nyata"
      ],
      "metadata": {
        "id": "QxvP5F8CkLjW"
      }
    },
    {
      "cell_type": "code",
      "source": [
        "# Operator logika dasar\n",
        "a = True\n",
        "b = False\n",
        "print(\"a and b =\", a and b)\n",
        "print(\"a or b =\", a or b)\n",
        "print(\"not a =\", not a)\n",
        "\n",
        "# Studi kasus nyata: kelulusan\n",
        "nilai = int(input(\"Masukkan nilai ujian: \"))\n",
        "hadir = int(input(\"Masukkan jumlah kehadiran: \"))\n",
        "\n",
        "lulus_nilai = nilai >= 60\n",
        "lulus_hadir = hadir >= 12  # dari 16 pertemuan\n",
        "\n",
        "if lulus_nilai and lulus_hadir:\n",
        "    print(\"Status: LULUS\")\n",
        "else:\n",
        "    print(\"Status: TIDAK LULUS\")\n"
      ],
      "metadata": {
        "colab": {
          "base_uri": "https://localhost:8080/"
        },
        "id": "R3sQdTr9kS0h",
        "outputId": "a6139637-702a-4d5a-9ca2-ea030da21753"
      },
      "execution_count": null,
      "outputs": [
        {
          "output_type": "stream",
          "name": "stdout",
          "text": [
            "a and b = False\n",
            "a or b = True\n",
            "not a = False\n",
            "Masukkan nilai ujian: 90\n",
            "Masukkan jumlah kehadiran: 15\n",
            "Status: LULUS\n"
          ]
        }
      ]
    },
    {
      "cell_type": "markdown",
      "source": [
        "Pratikum 06 Program Kasir Sederhana"
      ],
      "metadata": {
        "id": "LYSe7eL2mcMD"
      }
    },
    {
      "cell_type": "code",
      "source": [
        "barang = input(\"Masukkan nama barang: \")\n",
        "harga = float(input(\"Masukkan harga barang: \"))\n",
        "jumlah = int(input(\"Masukkan jumlah barang: \"))\n",
        "total = harga * jumlah\n",
        "\n",
        "# Aturan diskon\n",
        "if total >= 500000:\n",
        "    diskon = 0.2\n",
        "elif total >= 250000:\n",
        "    diskon = 0.1\n",
        "else:\n",
        "    diskon = 0\n",
        "\n",
        "potongan = total * diskon\n",
        "bayar = total - potongan\n",
        "\n",
        "print(\"\\n===== Struk Belanja =====\")\n",
        "print(\"Barang :\", barang)\n",
        "print(\"Jumlah :\", jumlah)\n",
        "print(\"Total  : Rp\", total)\n",
        "\n"
      ],
      "metadata": {
        "colab": {
          "base_uri": "https://localhost:8080/"
        },
        "id": "cwveucIAmhQ2",
        "outputId": "22dcd0eb-c736-45e0-e5e3-59545ffdc0c6"
      },
      "execution_count": null,
      "outputs": [
        {
          "output_type": "stream",
          "name": "stdout",
          "text": [
            "Masukkan nama barang: wafer nisiin\n",
            "Masukkan harga barang: 10000\n",
            "Masukkan jumlah barang: 5\n",
            "\n",
            "===== Struk Belanja =====\n",
            "Barang : wafer nisiin\n",
            "Jumlah : 5\n",
            "Total  : Rp 50000.0\n"
          ]
        }
      ]
    },
    {
      "cell_type": "markdown",
      "source": [
        "Penugasan Operasi Aritmatika"
      ],
      "metadata": {
        "id": "XvHUmkriimUl"
      }
    },
    {
      "cell_type": "code",
      "source": [
        "# Program operasi aritmatika dua bilangan bulat\n",
        "\n",
        "# Input dari pengguna\n",
        "bil1 = int(input(\"Masukkan bilangan pertama: \"))\n",
        "bil2 = int(input(\"Masukkan bilangan kedua: \"))\n",
        "\n",
        "# Operasi aritmatika\n",
        "print(\"\\n=== Hasil Operasi Aritmatika ===\")\n",
        "print(\"Penjumlahan      :\", bil1 + bil2)\n",
        "print(\"Pengurangan      :\", bil1 - bil2)\n",
        "print(\"Perkalian        :\", bil1 * bil2)\n",
        "print(\"Pembagian        :\", bil1 / bil2)\n",
        "print(\"Sisa Bagi (Mod)  :\", bil1 % bil2)\n",
        "print(\"Perpangkatan     :\", bil1 ** bil2)\n"
      ],
      "metadata": {
        "colab": {
          "base_uri": "https://localhost:8080/"
        },
        "id": "lfPlv79vjDFH",
        "outputId": "c485a466-d52a-4d69-88c7-a4039804de16"
      },
      "execution_count": 2,
      "outputs": [
        {
          "output_type": "stream",
          "name": "stdout",
          "text": [
            "Masukkan bilangan pertama: 27\n",
            "Masukkan bilangan kedua: 37\n",
            "\n",
            "=== Hasil Operasi Aritmatika ===\n",
            "Penjumlahan      : 64\n",
            "Pengurangan      : -10\n",
            "Perkalian        : 999\n",
            "Pembagian        : 0.7297297297297297\n",
            "Sisa Bagi (Mod)  : 27\n",
            "Perpangkatan     : 91297581665113611259115979754590511595360241199911147\n"
          ]
        }
      ]
    },
    {
      "cell_type": "markdown",
      "source": [
        "Penugasan Konversi Nilai\n"
      ],
      "metadata": {
        "id": "s6I_h_51iZxI"
      }
    },
    {
      "cell_type": "code",
      "source": [
        "# Program konversi dan pembulatan angka desimal\n",
        "\n",
        "# Membaca input dari pengguna\n",
        "angka = float(input(\"Masukkan angka desimal: \"))\n",
        "\n",
        "# Menampilkan dalam bentuk integer\n",
        "print(\"Dalam bentuk integer :\", int(angka))\n",
        "\n",
        "# Menampilkan dalam bentuk string\n",
        "print(\"Dalam bentuk string  :\", str(angka))\n",
        "\n",
        "# Menampilkan hasil pembulatan 2 digit di belakang koma\n",
        "print(\"Hasil pembulatan (2 digit):\", round(angka, 2))\n",
        "\n"
      ],
      "metadata": {
        "colab": {
          "base_uri": "https://localhost:8080/"
        },
        "id": "r_yvHd8jiArv",
        "outputId": "b1997391-ff70-42c0-ea4c-d7d4281c7462"
      },
      "execution_count": 1,
      "outputs": [
        {
          "output_type": "stream",
          "name": "stdout",
          "text": [
            "Masukkan angka desimal: 5\n",
            "Dalam bentuk integer : 5\n",
            "Dalam bentuk string  : 5.0\n",
            "Hasil pembulatan (2 digit): 5.0\n"
          ]
        }
      ]
    },
    {
      "cell_type": "markdown",
      "source": [
        "Penugasan Operator Relasional"
      ],
      "metadata": {
        "id": "YUWzRLNvjV2U"
      }
    },
    {
      "cell_type": "code",
      "source": [
        "# Program perbandingan dua bilangan\n",
        "\n",
        "# Membaca input dari pengguna\n",
        "bil1 = float(input(\"Masukkan bilangan pertama: \"))\n",
        "bil2 = float(input(\"Masukkan bilangan kedua: \"))\n",
        "\n",
        "# Menampilkan hasil perbandingan\n",
        "print(\"\\n=== Hasil Perbandingan ===\")\n",
        "print(f\"{bil1} == {bil2} :\", bil1 == bil2)\n",
        "print(f\"{bil1} != {bil2} :\", bil1 != bil2)\n",
        "print(f\"{bil1} <  {bil2} :\", bil1 < bil2)\n",
        "print(f\"{bil1} >  {bil2} :\", bil1 > bil2)\n",
        "print(f\"{bil1} <= {bil2} :\", bil1 <= bil2)\n",
        "print(f\"{bil1} >= {bil2} :\", bil1 >= bil2)\n"
      ],
      "metadata": {
        "colab": {
          "base_uri": "https://localhost:8080/"
        },
        "id": "vlgj3qAljcn2",
        "outputId": "96f42e98-b16d-44ff-e1ac-f92b5f5ee9df"
      },
      "execution_count": 3,
      "outputs": [
        {
          "output_type": "stream",
          "name": "stdout",
          "text": [
            "Masukkan bilangan pertama: 50\n",
            "Masukkan bilangan kedua: 35\n",
            "\n",
            "=== Hasil Perbandingan ===\n",
            "50.0 == 35.0 : False\n",
            "50.0 != 35.0 : True\n",
            "50.0 <  35.0 : False\n",
            "50.0 >  35.0 : True\n",
            "50.0 <= 35.0 : False\n",
            "50.0 >= 35.0 : True\n"
          ]
        }
      ]
    }
  ]
}