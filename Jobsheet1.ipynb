{
  "nbformat": 4,
  "nbformat_minor": 0,
  "metadata": {
    "colab": {
      "provenance": [],
      "authorship_tag": "ABX9TyO1AoQzVdErnXImJarbHwEL",
      "include_colab_link": true
    },
    "kernelspec": {
      "name": "python3",
      "display_name": "Python 3"
    },
    "language_info": {
      "name": "python"
    }
  },
  "cells": [
    {
      "cell_type": "markdown",
      "metadata": {
        "id": "view-in-github",
        "colab_type": "text"
      },
      "source": [
        "<a href=\"https://colab.research.google.com/github/ridho43325123-debug/jobsheet-1/blob/main/Untitled0.ipynb\" target=\"_parent\"><img src=\"https://colab.research.google.com/assets/colab-badge.svg\" alt=\"Open In Colab\"/></a>"
      ]
    },
    {
      "cell_type": "markdown",
      "source": [
        "Pratikum 01."
      ],
      "metadata": {
        "id": "CghblV02RHmj"
      }
    },
    {
      "cell_type": "markdown",
      "source": [],
      "metadata": {
        "id": "MBl46aSHSfxH"
      }
    },
    {
      "cell_type": "code",
      "source": [
        "p = int(input(\"Masukkan panjang: \"))\n",
        "i = int(input(\"Masukkan lebar: \"))\n",
        "luas = p * i\n",
        "print (\"Luas persegi panjang =\", luas)"
      ],
      "metadata": {
        "colab": {
          "base_uri": "https://localhost:8080/"
        },
        "id": "ITuaUnOWSgkH",
        "outputId": "b0cfd9e4-b24a-4159-922a-063dc8f91d6e"
      },
      "execution_count": null,
      "outputs": [
        {
          "output_type": "stream",
          "name": "stdout",
          "text": [
            "Masukkan panjang: 8\n",
            "Masukkan lebar: 5\n",
            "Luas persegi panjang = 40\n"
          ]
        }
      ]
    },
    {
      "cell_type": "markdown",
      "source": [
        "  Pratikum 02.\n",
        "  "
      ],
      "metadata": {
        "id": "jjnUkVPkTm75"
      }
    },
    {
      "cell_type": "code",
      "source": [],
      "metadata": {
        "id": "kQ70ivMfoSgr"
      },
      "execution_count": null,
      "outputs": []
    },
    {
      "cell_type": "markdown",
      "source": [],
      "metadata": {
        "id": "ekKfIvU1RG0w"
      }
    },
    {
      "cell_type": "code",
      "source": [
        "import math\n",
        "\n",
        "a = float(input(\"Masukkan sisi a: \"))\n",
        "b = float(input(\"Masukkan sisi b: \"))\n",
        "c = float(input(\"Masukkan sisi c: \"))\n",
        "\n",
        "s = (a + b + c) / 2\n",
        "luas = math.sqrt(s * (s - a) * (s - b) * (s - c))3\n",
        "print(\"Luas segitiga =\", luas)\n",
        "\n"
      ],
      "metadata": {
        "colab": {
          "base_uri": "https://localhost:8080/"
        },
        "id": "NJQvAlF_TrqN",
        "outputId": "6af34ef7-e0c4-4623-be65-5f81a2e0016c"
      },
      "execution_count": null,
      "outputs": [
        {
          "output_type": "stream",
          "name": "stdout",
          "text": [
            "Masukkan sisi a: 3\n",
            "Masukkan sisi b: 3\n",
            "Masukkan sisi c: 3\n",
            "Luas segitiga = 3.897114317029974\n"
          ]
        }
      ]
    },
    {
      "cell_type": "markdown",
      "source": [
        "Pratikum 03.\n"
      ],
      "metadata": {
        "id": "iIBnYDGrWeV1"
      }
    },
    {
      "cell_type": "code",
      "source": [
        "c = float(input(\"Masukkan suhu (C): \"))\n",
        "f = (c * 9/5) + 32\n",
        "print(\"Hasil konversi =\", f, \"F\")\n"
      ],
      "metadata": {
        "colab": {
          "base_uri": "https://localhost:8080/"
        },
        "id": "MwE60Eu1ViIL",
        "outputId": "9fe2995a-631d-4945-dee8-aa6cd3443e34"
      },
      "execution_count": null,
      "outputs": [
        {
          "output_type": "stream",
          "name": "stdout",
          "text": [
            "Masukkan suhu (C): 33\n",
            "Hasil konversi = 91.4 F\n"
          ]
        }
      ]
    },
    {
      "cell_type": "code",
      "source": [],
      "metadata": {
        "id": "i0odmnqQXpPF"
      },
      "execution_count": null,
      "outputs": []
    },
    {
      "cell_type": "markdown",
      "source": [
        "Pratikum 04"
      ],
      "metadata": {
        "id": "8XSjL2RpY9wE"
      }
    },
    {
      "cell_type": "code",
      "source": [
        "tahun_lahir = int(input(\"Masukkan tahun lahir: \"))\n",
        "tahun_sekarang = 2025\n",
        "umur = tahun_sekarang - tahun_lahir\n",
        "print(\"Umur anda =\", umur, \"tahun\")\n"
      ],
      "metadata": {
        "colab": {
          "base_uri": "https://localhost:8080/"
        },
        "id": "ojQWnIgCZBrs",
        "outputId": "5fbb5ad2-d19a-4b75-d5e4-e1d0346ceaa5"
      },
      "execution_count": null,
      "outputs": [
        {
          "output_type": "stream",
          "name": "stdout",
          "text": [
            "Masukkan tahun lahir: 2007\n",
            "Umur anda = 18 tahun\n"
          ]
        }
      ]
    },
    {
      "cell_type": "markdown",
      "source": [
        "Pratikum 05"
      ],
      "metadata": {
        "id": "WOvxSsDhhI4e"
      }
    },
    {
      "cell_type": "code",
      "source": [
        "import math\n",
        "r = float(input(\"Masukkan jari-jari lingkaran: \"))\n",
        "luas = math.pi * r * r\n",
        "print(\"Luas lingkaran =\", luas)\n"
      ],
      "metadata": {
        "colab": {
          "base_uri": "https://localhost:8080/"
        },
        "id": "EsaruBqzZ3UQ",
        "outputId": "76689251-2813-48e8-b50c-a73bfed274ce"
      },
      "execution_count": null,
      "outputs": [
        {
          "output_type": "stream",
          "name": "stdout",
          "text": [
            "Masukkan jari-jari lingkaran: 5\n",
            "Luas lingkaran = 78.53981633974483\n"
          ]
        }
      ]
    },
    {
      "cell_type": "markdown",
      "source": [],
      "metadata": {
        "id": "53snvz5aZ5b7"
      }
    },
    {
      "cell_type": "code",
      "source": [],
      "metadata": {
        "id": "lq5Zci-hgEQu"
      },
      "execution_count": null,
      "outputs": []
    },
    {
      "cell_type": "markdown",
      "source": [
        "Pratikum 06\n"
      ],
      "metadata": {
        "id": "k4ixyw_8gHYA"
      }
    },
    {
      "cell_type": "code",
      "source": [
        "a = int(input(\"Masukkan bilangan pertama: n\"))\n",
        "b = int(input(\"Masukkan bilangan kedua: \"))\n",
        "c = int(input(\"Masukkan bilangan ketiga: \"))\n",
        "jumlah = a + b +\n",
        "print(\"Jumlah =\", jumlah)\n"
      ],
      "metadata": {
        "colab": {
          "base_uri": "https://localhost:8080/"
        },
        "id": "V0-dm1Uda5Mf",
        "outputId": "cbf7d4c1-ea4a-4125-d4ff-b3cf4c22c7b5"
      },
      "execution_count": null,
      "outputs": [
        {
          "output_type": "stream",
          "name": "stdout",
          "text": [
            "Masukkan bilangan pertama: n5\n",
            "Masukkan bilangan kedua: 5\n",
            "Masukkan bilangan ketiga: 5\n",
            "Jumlah = 15\n"
          ]
        }
      ]
    }
  ]
}
