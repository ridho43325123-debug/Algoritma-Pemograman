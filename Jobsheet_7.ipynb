{
  "nbformat": 4,
  "nbformat_minor": 0,
  "metadata": {
    "colab": {
      "provenance": [],
      "authorship_tag": "ABX9TyOLHi0hoDf6yxPmH8UJaAA4",
      "include_colab_link": true
    },
    "kernelspec": {
      "name": "python3",
      "display_name": "Python 3"
    },
    "language_info": {
      "name": "python"
    }
  },
  "cells": [
    {
      "cell_type": "markdown",
      "metadata": {
        "id": "view-in-github",
        "colab_type": "text"
      },
      "source": [
        "<a href=\"https://colab.research.google.com/github/ridho43325123-debug/Algoritma-Pemograman/blob/main/Jobsheet_7.ipynb\" target=\"_parent\"><img src=\"https://colab.research.google.com/assets/colab-badge.svg\" alt=\"Open In Colab\"/></a>"
      ]
    },
    {
      "cell_type": "markdown",
      "source": [
        "Pratikum 01"
      ],
      "metadata": {
        "id": "I_RTI2B_W-T4"
      }
    },
    {
      "cell_type": "code",
      "execution_count": null,
      "metadata": {
        "colab": {
          "base_uri": "https://localhost:8080/"
        },
        "id": "wOYQa9D_V70a",
        "outputId": "760de284-d3bb-40a6-930a-701ae1ce835d"
      },
      "outputs": [
        {
          "output_type": "stream",
          "name": "stdout",
          "text": [
            "Lintang: 7.05\n",
            "Bujur: 110.44\n"
          ]
        }
      ],
      "source": [
        "koordinat = (7.05, 110.44)\n",
        "print(\"Lintang:\", koordinat[0])\n",
        "print(\"Bujur:\", koordinat[1])\n"
      ]
    },
    {
      "cell_type": "markdown",
      "source": [
        "Pratikum 02"
      ],
      "metadata": {
        "id": "Vmsv0DBHYRJd"
      }
    },
    {
      "cell_type": "code",
      "source": [
        "mahasiswa = {\n",
        "    \"NIM\": \"20251001\",\n",
        "    \"Nama\": \"Andi\",\n",
        "    \"Prodi\": \"TRK\"\n",
        "}\n",
        "\n",
        "print(\"NIM  :\", mahasiswa[\"NIM\"])\n",
        "print(\"Nama :\", mahasiswa[\"Nama\"])\n",
        "print(\"Prodi:\", mahasiswa[\"Prodi\"])\n",
        "\n"
      ],
      "metadata": {
        "colab": {
          "base_uri": "https://localhost:8080/"
        },
        "id": "6b7yIMgXYUD_",
        "outputId": "ffc99bb5-512a-4a02-ca6a-d5ab5e22a33e"
      },
      "execution_count": null,
      "outputs": [
        {
          "output_type": "stream",
          "name": "stdout",
          "text": [
            "NIM  : 20251001\n",
            "Nama : Andi\n",
            "Prodi: TRK\n",
            "NIM  : 20251001\n",
            "Nama : Andi\n",
            "Prodi: TRK\n"
          ]
        }
      ]
    },
    {
      "cell_type": "markdown",
      "source": [
        "Pratikum 03"
      ],
      "metadata": {
        "id": "-eaSKnp0Y_xT"
      }
    },
    {
      "cell_type": "code",
      "source": [
        "mahasiswa = {\n",
        "    \"NIM\": \"20251001\",\n",
        "    \"Nama\": \"Andi\",\n",
        "    \"Prodi\": \"TRK\"\n",
        "}\n",
        "\n",
        "mahasiswa[\"Umur\"] = 20                      # menambah data\n",
        "mahasiswa[\"Prodi\"] = \"Teknik Komputer\"      # memperbarui data\n",
        "del mahasiswa[\"Umur\"]                       # menghapus data\n",
        "\n",
        "print(mahasiswa)\n",
        "\n"
      ],
      "metadata": {
        "colab": {
          "base_uri": "https://localhost:8080/"
        },
        "id": "5wBfAv4gZD7J",
        "outputId": "b6cc7457-c978-42ed-a0ff-a900aed22b14"
      },
      "execution_count": null,
      "outputs": [
        {
          "output_type": "stream",
          "name": "stdout",
          "text": [
            "{'NIM': '20251001', 'Nama': 'Andi', 'Prodi': 'Teknik Komputer'}\n"
          ]
        }
      ]
    },
    {
      "cell_type": "markdown",
      "source": [
        "Pratikum 04"
      ],
      "metadata": {
        "id": "XKqCuDxKZe_M"
      }
    },
    {
      "cell_type": "code",
      "source": [
        "A = {1, 2, 3, 4}\n",
        "B = {3, 4, 5, 6}\n",
        "\n",
        "print(\"Union:\", A | B)\n",
        "print(\"Intersection:\", A & B)\n",
        "print(\"Difference:\", A - B)\n"
      ],
      "metadata": {
        "colab": {
          "base_uri": "https://localhost:8080/"
        },
        "id": "54yngdXiZgr6",
        "outputId": "a987d10f-f2ce-4e1c-b09f-b40327cba229"
      },
      "execution_count": null,
      "outputs": [
        {
          "output_type": "stream",
          "name": "stdout",
          "text": [
            "Union: {1, 2, 3, 4, 5, 6}\n",
            "Intersection: {3, 4}\n",
            "Difference: {1, 2}\n"
          ]
        }
      ]
    },
    {
      "cell_type": "markdown",
      "source": [
        "Pratikum 05"
      ],
      "metadata": {
        "id": "1pJ_-BcwZqg_"
      }
    },
    {
      "cell_type": "code",
      "source": [
        "mhs1 = {\"Algoritma\", \"Matematika\", \"Bahasa Inggris\"}\n",
        "mhs2 = {\"Algoritma\", \"Basis Data\", \"Matematika\"}\n",
        "\n",
        "print(\"Mata kuliah Mhs1:\", mhs1)\n",
        "print(\"Mata kuliah Mhs2:\", mhs2)\n",
        "print(\"Mata kuliah yang sama:\", mhs1 & mhs2)\n"
      ],
      "metadata": {
        "colab": {
          "base_uri": "https://localhost:8080/"
        },
        "id": "MdrYtX2TZr_l",
        "outputId": "7a692642-a357-46d8-f59c-86d3ac7d7825"
      },
      "execution_count": null,
      "outputs": [
        {
          "output_type": "stream",
          "name": "stdout",
          "text": [
            "Mata kuliah Mhs1: {'Algoritma', 'Matematika', 'Bahasa Inggris'}\n",
            "Mata kuliah Mhs2: {'Algoritma', 'Matematika', 'Basis Data'}\n",
            "Mata kuliah yang sama: {'Algoritma', 'Matematika'}\n"
          ]
        }
      ]
    },
    {
      "cell_type": "markdown",
      "source": [
        "Pratikum 06"
      ],
      "metadata": {
        "id": "KXLBuYO2Z1Zy"
      }
    },
    {
      "cell_type": "code",
      "source": [
        "nilai_mahasiswa = {\n",
        "    \"Andi\": 80,\n",
        "    \"Budi\": 75,\n",
        "    \"Cici\": 90\n",
        "}\n",
        "\n",
        "for nama, nilai in nilai_mahasiswa.items():\n",
        "    print(f\"{nama}: {nilai}\")\n",
        "\n",
        "rata = sum(nilai_mahasiswa.values()) / len(nilai_mahasiswa)\n",
        "print(f\"Rata-rata nilai: {rata:.2f}\")\n"
      ],
      "metadata": {
        "colab": {
          "base_uri": "https://localhost:8080/"
        },
        "id": "gf8hB5_LZ3Vn",
        "outputId": "c9746905-20d9-40b4-9560-6c20f8e10b80"
      },
      "execution_count": null,
      "outputs": [
        {
          "output_type": "stream",
          "name": "stdout",
          "text": [
            "Andi: 80\n",
            "Budi: 75\n",
            "Cici: 90\n",
            "Rata-rata nilai: 81.67\n"
          ]
        }
      ]
    },
    {
      "cell_type": "markdown",
      "source": [
        "Penugasan 01"
      ],
      "metadata": {
        "id": "RwboBZCvaMrs"
      }
    },
    {
      "cell_type": "code",
      "source": [
        "mahasiswa = (\"Andi\", 20, \"Teknik Komputer\")\n",
        "\n",
        "print(\"Nama :\", mahasiswa[0])\n",
        "print(\"Umur :\", mahasiswa[1])\n",
        "print(\"Prodi:\", mahasiswa[2])\n"
      ],
      "metadata": {
        "colab": {
          "base_uri": "https://localhost:8080/"
        },
        "id": "p2-cneFZaPP7",
        "outputId": "418eeab3-caad-44c5-b450-e028d97ef19b"
      },
      "execution_count": null,
      "outputs": [
        {
          "output_type": "stream",
          "name": "stdout",
          "text": [
            "Nama : Andi\n",
            "Umur : 20\n",
            "Prodi: Teknik Komputer\n"
          ]
        }
      ]
    },
    {
      "cell_type": "markdown",
      "source": [
        "Penugasan 02"
      ],
      "metadata": {
        "id": "UXcURtlRahIX"
      }
    },
    {
      "cell_type": "code",
      "source": [
        "angka = (1, 2, 3)\n",
        "angka[0] = 10   # mencoba mengubah elemen tuple\n"
      ],
      "metadata": {
        "colab": {
          "base_uri": "https://localhost:8080/",
          "height": 158
        },
        "id": "uxY2xTTjaiif",
        "outputId": "a23a960e-f57e-4929-bc9a-6359041f8721"
      },
      "execution_count": null,
      "outputs": [
        {
          "output_type": "error",
          "ename": "TypeError",
          "evalue": "'tuple' object does not support item assignment",
          "traceback": [
            "\u001b[0;31m---------------------------------------------------------------------------\u001b[0m",
            "\u001b[0;31mTypeError\u001b[0m                                 Traceback (most recent call last)",
            "\u001b[0;32m/tmp/ipython-input-2413534237.py\u001b[0m in \u001b[0;36m<cell line: 0>\u001b[0;34m()\u001b[0m\n\u001b[1;32m      1\u001b[0m \u001b[0mangka\u001b[0m \u001b[0;34m=\u001b[0m \u001b[0;34m(\u001b[0m\u001b[0;36m1\u001b[0m\u001b[0;34m,\u001b[0m \u001b[0;36m2\u001b[0m\u001b[0;34m,\u001b[0m \u001b[0;36m3\u001b[0m\u001b[0;34m)\u001b[0m\u001b[0;34m\u001b[0m\u001b[0;34m\u001b[0m\u001b[0m\n\u001b[0;32m----> 2\u001b[0;31m \u001b[0mangka\u001b[0m\u001b[0;34m[\u001b[0m\u001b[0;36m0\u001b[0m\u001b[0;34m]\u001b[0m \u001b[0;34m=\u001b[0m \u001b[0;36m10\u001b[0m   \u001b[0;31m# mencoba mengubah elemen tuple\u001b[0m\u001b[0;34m\u001b[0m\u001b[0;34m\u001b[0m\u001b[0m\n\u001b[0m",
            "\u001b[0;31mTypeError\u001b[0m: 'tuple' object does not support item assignment"
          ]
        }
      ]
    },
    {
      "cell_type": "markdown",
      "source": [
        "Penugasan 03"
      ],
      "metadata": {
        "id": "ysi7qW_3arYe"
      }
    },
    {
      "cell_type": "code",
      "source": [
        "buku = {\n",
        "    \"Judul\": \"Algoritma\",\n",
        "    \"Penulis\": \"Munir\",\n",
        "    \"Tahun\": 2021\n",
        "}\n",
        "\n",
        "print(\"Judul  :\", buku[\"Judul\"])\n",
        "print(\"Penulis:\", buku[\"Penulis\"])\n",
        "print(\"Tahun  :\", buku[\"Tahun\"])\n"
      ],
      "metadata": {
        "colab": {
          "base_uri": "https://localhost:8080/"
        },
        "id": "dT21AvDsatr8",
        "outputId": "a1485d94-a7f1-4072-a563-2a7e15c6d152"
      },
      "execution_count": null,
      "outputs": [
        {
          "output_type": "stream",
          "name": "stdout",
          "text": [
            "Judul  : Algoritma\n",
            "Penulis: Munir\n",
            "Tahun  : 2021\n"
          ]
        }
      ]
    },
    {
      "cell_type": "markdown",
      "source": [
        "Penugasan 04"
      ],
      "metadata": {
        "id": "CG2Mj7NRaxA7"
      }
    },
    {
      "cell_type": "code",
      "source": [
        "dosen = {\n",
        "    \"NIP\": \"12345\",\n",
        "    \"Nama\": \"Budi\",\n",
        "    \"Prodi\": \"TRK\"\n",
        "}\n",
        "\n",
        "dosen[\"Umur\"] = 40                 # menambah data\n",
        "dosen[\"Prodi\"] = \"Teknik Komputer\" # memperbarui data\n",
        "del dosen[\"Umur\"]                  # menghapus data\n",
        "\n",
        "print(dosen)\n"
      ],
      "metadata": {
        "colab": {
          "base_uri": "https://localhost:8080/"
        },
        "id": "_TVm8qOZa1ZS",
        "outputId": "79fb675a-3832-4c1d-a487-3a61e7c22f02"
      },
      "execution_count": null,
      "outputs": [
        {
          "output_type": "stream",
          "name": "stdout",
          "text": [
            "{'NIP': '12345', 'Nama': 'Budi', 'Prodi': 'Teknik Komputer'}\n"
          ]
        }
      ]
    },
    {
      "cell_type": "markdown",
      "source": [
        "Penugasan 05"
      ],
      "metadata": {
        "id": "KDUNXLrMa2ne"
      }
    },
    {
      "cell_type": "code",
      "source": [
        "A = {\"Matematika\", \"Algoritma\", \"Bahasa Inggris\"}\n",
        "B = {\"Algoritma\", \"Basis Data\", \"Matematika\"}\n",
        "\n",
        "print(\"Union        :\", A | B)\n",
        "print(\"Intersection :\", A & B)\n",
        "print(\"Difference   :\", A - B)\n"
      ],
      "metadata": {
        "colab": {
          "base_uri": "https://localhost:8080/"
        },
        "id": "hnPMApsBa7MC",
        "outputId": "6e9adcb0-d1aa-4e6c-f345-5725ca5c5256"
      },
      "execution_count": null,
      "outputs": [
        {
          "output_type": "stream",
          "name": "stdout",
          "text": [
            "Union        : {'Algoritma', 'Bahasa Inggris', 'Matematika', 'Basis Data'}\n",
            "Intersection : {'Algoritma', 'Matematika'}\n",
            "Difference   : {'Bahasa Inggris'}\n"
          ]
        }
      ]
    },
    {
      "cell_type": "markdown",
      "source": [
        "Penugasan 06"
      ],
      "metadata": {
        "id": "FLBKWN-rbAXo"
      }
    },
    {
      "cell_type": "code",
      "source": [
        "nilai = {\"Andi\": 85, \"Budi\": 90, \"Cici\": 78}\n",
        "\n",
        "for nama, skor in nilai.items():\n",
        "    print(f\"{nama}: {skor}\")\n",
        "\n",
        "rata_rata = sum(nilai.values()) / len(nilai)\n",
        "print(f\"Rata-rata nilai: {rata_rata:.2f}\")\n"
      ],
      "metadata": {
        "colab": {
          "base_uri": "https://localhost:8080/"
        },
        "id": "Krml07jxbIpg",
        "outputId": "c52f36c2-b270-48db-e3b2-6282e21beb83"
      },
      "execution_count": null,
      "outputs": [
        {
          "output_type": "stream",
          "name": "stdout",
          "text": [
            "Andi: 85\n",
            "Budi: 90\n",
            "Cici: 78\n",
            "Rata-rata nilai: 84.33\n"
          ]
        }
      ]
    },
    {
      "cell_type": "markdown",
      "source": [
        "Penugasan 07"
      ],
      "metadata": {
        "id": "2EXhOMQpbLBB"
      }
    },
    {
      "cell_type": "code",
      "source": [
        "klub_A = {\"Andi\", \"Budi\", \"Cici\"}\n",
        "klub_B = {\"Cici\", \"Deni\", \"Eka\"}\n",
        "\n",
        "print(\"Semua anggota       :\", klub_A | klub_B)\n",
        "print(\"Anggota di kedua klub:\", klub_A & klub_B)\n",
        "print(\"Hanya di Klub A     :\", klub_A - klub_B)\n"
      ],
      "metadata": {
        "colab": {
          "base_uri": "https://localhost:8080/"
        },
        "id": "cULP6NoKbM9f",
        "outputId": "87d278e8-6993-4d9f-ca5c-3261b6cd6448"
      },
      "execution_count": null,
      "outputs": [
        {
          "output_type": "stream",
          "name": "stdout",
          "text": [
            "Semua anggota       : {'Budi', 'Deni', 'Eka', 'Cici', 'Andi'}\n",
            "Anggota di kedua klub: {'Cici'}\n",
            "Hanya di Klub A     : {'Budi', 'Andi'}\n"
          ]
        }
      ]
    }
  ]
}