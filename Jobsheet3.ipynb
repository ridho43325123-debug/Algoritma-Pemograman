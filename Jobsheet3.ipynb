{
  "nbformat": 4,
  "nbformat_minor": 0,
  "metadata": {
    "colab": {
      "provenance": [],
      "authorship_tag": "ABX9TyO5/zg2Vxxdaex0QPsIZUoF",
      "include_colab_link": true
    },
    "kernelspec": {
      "name": "python3",
      "display_name": "Python 3"
    },
    "language_info": {
      "name": "python"
    }
  },
  "cells": [
    {
      "cell_type": "markdown",
      "metadata": {
        "id": "view-in-github",
        "colab_type": "text"
      },
      "source": [
        "<a href=\"https://colab.research.google.com/github/ridho43325123-debug/Algoritma-Pemograman/blob/main/Jobsheet3.ipynb\" target=\"_parent\"><img src=\"https://colab.research.google.com/assets/colab-badge.svg\" alt=\"Open In Colab\"/></a>"
      ]
    },
    {
      "cell_type": "markdown",
      "source": [
        "Pratikum 01\n"
      ],
      "metadata": {
        "id": "ABX1E9txdYTk"
      }
    },
    {
      "cell_type": "code",
      "execution_count": null,
      "metadata": {
        "colab": {
          "base_uri": "https://localhost:8080/"
        },
        "id": "2mYmxXO0ZXPj",
        "outputId": "262daea0-b01b-4808-9b60-e0e39f247add"
      },
      "outputs": [
        {
          "output_type": "stream",
          "name": "stdout",
          "text": [
            "Masukkan nilai ujian: 80\n",
            "Anda LULUS\n"
          ]
        }
      ],
      "source": [
        "nilai = int(input(\"Masukkan nilai ujian: \"))\n",
        "if nilai >= 60:\n",
        "    print(\"Anda LULUS\")\n",
        "\n",
        "\n",
        "\n"
      ]
    },
    {
      "cell_type": "markdown",
      "source": [
        "Pratikum 02"
      ],
      "metadata": {
        "id": "DhgLxQcYdUA8"
      }
    },
    {
      "cell_type": "code",
      "source": [
        "nilai = int(input(\"Masukkan nilai ujian: \"))\n",
        "if nilai >= 60:\n",
        "     print(\"Anda LULUS\")\n",
        "else:\n",
        "    print(\"Anda TIDAK LULUS\")\n"
      ],
      "metadata": {
        "colab": {
          "base_uri": "https://localhost:8080/"
        },
        "id": "PeGruvEGbkya",
        "outputId": "915fd32d-6461-4e93-899e-48a8cb449077"
      },
      "execution_count": null,
      "outputs": [
        {
          "output_type": "stream",
          "name": "stdout",
          "text": [
            "Masukkan nilai ujian: 85\n",
            "Anda LULUS\n"
          ]
        }
      ]
    },
    {
      "cell_type": "markdown",
      "source": [
        "Pratikum 03"
      ],
      "metadata": {
        "id": "16wjlTDIe7kZ"
      }
    },
    {
      "cell_type": "code",
      "source": [
        "nilai = int(input(\"Masukkan nilai akhir: \"))\n",
        "\n",
        "if nilai >= 85:\n",
        "    grade = \"A\"\n",
        "elif nilai >= 70:\n",
        "    grade = \"B\"\n",
        "elif nilai >= 55:\n",
        "    grade = \"C\"\n",
        "elif nilai >= 40:\n",
        "    grade = \"D\"\n",
        "else:\n",
        "    grade = \"E\"\n",
        "\n",
        "print(f\"Nilai Anda {nilai}, maka grade Anda = {grade}\")\n"
      ],
      "metadata": {
        "colab": {
          "base_uri": "https://localhost:8080/"
        },
        "id": "G8YgjOhIe9L_",
        "outputId": "bcc33dc2-f939-45bb-a844-2e9052e7c468"
      },
      "execution_count": null,
      "outputs": [
        {
          "output_type": "stream",
          "name": "stdout",
          "text": [
            "Masukkan nilai akhir: 67\n",
            "Nilai Anda 67, maka grade Anda = C\n"
          ]
        }
      ]
    },
    {
      "cell_type": "markdown",
      "source": [
        "Pratikum 04"
      ],
      "metadata": {
        "id": "HVnbSLTqfrVh"
      }
    },
    {
      "cell_type": "code",
      "source": [
        "ipk = float(input(\"Masukkan IPK: \"))\n",
        "sks = int(input(\"Masukkan jumlah SKS: \"))\n",
        "\n",
        "if ipk >= 3.0:\n",
        "    if sks >= 18:\n",
        "        print(\"Anda LAYAK mendapat beasiswa\")\n",
        "    else:\n",
        "        print(\"IPK memenuhi tapi SKS kurang\")\n",
        "else:\n",
        "    print(\"Anda TIDAK layak mendapat beasiswa\")\n"
      ],
      "metadata": {
        "colab": {
          "base_uri": "https://localhost:8080/"
        },
        "id": "ISitUiOcft8N",
        "outputId": "a680b976-8547-4246-9c5e-81f134c7f356"
      },
      "execution_count": null,
      "outputs": [
        {
          "output_type": "stream",
          "name": "stdout",
          "text": [
            "Masukkan IPK: 2.3\n",
            "Masukkan jumlah SKS: 21\n",
            "Anda TIDAK layak mendapat beasiswa\n"
          ]
        }
      ]
    },
    {
      "cell_type": "markdown",
      "source": [
        "Pratikum 05"
      ],
      "metadata": {
        "id": "tvDWaKivgYKZ"
      }
    },
    {
      "cell_type": "code",
      "source": [
        "menu = int(input(\"Pilih menu (1-3): \"))\n",
        "\n",
        "match menu:\n",
        "    case 1:\n",
        "        print(\"Anda memilih Nasi Goreng\")\n",
        "    case 2:\n",
        "        print(\"Anda memilih Mie Ayam\")\n",
        "    case 3:\n",
        "        print(\"Anda memilih Soto Ayam\")\n",
        "    case _:\n",
        "        print(\"Menu tidak tersedia\")\n"
      ],
      "metadata": {
        "colab": {
          "base_uri": "https://localhost:8080/"
        },
        "id": "3PDzbwvUgZxI",
        "outputId": "0cb15956-dc8a-42ae-d4ac-1537642088c3"
      },
      "execution_count": null,
      "outputs": [
        {
          "output_type": "stream",
          "name": "stdout",
          "text": [
            "Pilih menu (1-3): 1\n",
            "Anda memilih Nasi Goreng\n"
          ]
        }
      ]
    },
    {
      "cell_type": "code",
      "source": [
        "menu = int(input(\"Pilih menu (1-3): \"))\n",
        "\n",
        "match menu:\n",
        "    case 1:\n",
        "        print(\"Anda memilih Nasi Goreng\")\n",
        "    case 2:\n",
        "        print(\"Anda memilih Mie Ayam\")\n",
        "    case 3:\n",
        "        print(\"Anda memilih Soto Ayam\")\n",
        "    case _:\n",
        "        print(\"Menu tidak tersedia\")\n"
      ],
      "metadata": {
        "colab": {
          "base_uri": "https://localhost:8080/"
        },
        "id": "Flwyjh56pG7a",
        "outputId": "8b49bc25-ee46-4c91-c48d-bd46f9564b53"
      },
      "execution_count": null,
      "outputs": [
        {
          "output_type": "stream",
          "name": "stdout",
          "text": [
            "Pilih menu (1-3): 2\n",
            "Anda memilih Mie Ayam\n"
          ]
        }
      ]
    },
    {
      "cell_type": "markdown",
      "source": [
        "Pratikum 06"
      ],
      "metadata": {
        "id": "LhRy0h9bgvlO"
      }
    },
    {
      "cell_type": "code",
      "source": [
        "barang = input(\"Masukkan nama barang: \")\n",
        "harga = float(input(\"Masukkan harga barang: \"))\n",
        "jumlah = int(input(\"Masukkan jumlah barang: \"))\n",
        "\n",
        "total = harga * jumlah\n",
        "\n",
        "if total >= 500000:\n",
        "    diskon = 0.2\n",
        "elif total >= 250000:\n",
        "    diskon = 0.1\n",
        "else:\n",
        "    diskon = 0.13\n",
        "\n",
        "bayar = total - (total * diskon)\n",
        "\n",
        "print(\"\\n===== Struk Belanja =====\")\n",
        "print(f\"Barang : {barang}\")\n",
        "print(f\"Jumlah : {jumlah}\")\n",
        "print(f\"Total  : Rp {total}\")\n",
        "print(f\"Diskon : {diskon*100}%\")\n",
        "print(f\"Bayar  : Rp {bayar}\")\n"
      ],
      "metadata": {
        "colab": {
          "base_uri": "https://localhost:8080/"
        },
        "id": "ic_xKEBUgyGC",
        "outputId": "9c3bfcf1-e2fa-4953-84d2-e80fce1dcbdb"
      },
      "execution_count": 1,
      "outputs": [
        {
          "output_type": "stream",
          "name": "stdout",
          "text": [
            "Masukkan nama barang: Tas\n",
            "Masukkan harga barang: 200000\n",
            "Masukkan jumlah barang: 3\n",
            "\n",
            "===== Struk Belanja =====\n",
            "Barang : Tas\n",
            "Jumlah : 3\n",
            "Total  : Rp 600000.0\n",
            "Diskon : 20.0%\n",
            "Bayar  : Rp 480000.0\n"
          ]
        }
      ]
    },
    {
      "cell_type": "code",
      "source": [
        "88barang = input(\"Masukkan nama barang: \")\n",
        "harga = float(input(\"Masukkan harga barang: \"))\n",
        "jumlah = int(input(\"Masukkan jumlah barang: \"))\n",
        "\n",
        "total = harga * jumlah\n",
        "\n",
        "print(\"\\n===== Struk Belanja =====\")\n",
        "print(f\"Barang : {barang}\")\n",
        "print(f\"Jumlah : {jumlah}\")\n",
        "print(f\"Total  : Rp {total}\")\n",
        "print(f\"Bayar  : Rp {total}\")\n"
      ],
      "metadata": {
        "colab": {
          "base_uri": "https://localhost:8080/"
        },
        "id": "81RG3NWwj-my",
        "outputId": "676322aa-1040-460e-ee10-5fcc2c3cb570"
      },
      "execution_count": 3,
      "outputs": [
        {
          "output_type": "stream",
          "name": "stdout",
          "text": [
            "Masukkan nama barang: pulpen\n",
            "Masukkan harga barang: 5000\n",
            "Masukkan jumlah barang: 3\n",
            "\n",
            "===== Struk Belanja =====\n",
            "Barang : pulpen\n",
            "Jumlah : 3\n",
            "Total  : Rp 15000.0\n",
            "Bayar  : Rp 15000.0\n"
          ]
        }
      ]
    },
    {
      "cell_type": "code",
      "source": [
        "print(\"===== PROGRAM KASIR SEDERHANA =====\")\n",
        "\n",
        "total_belanja = 0\n",
        "keranjang = []\n",
        "\n",
        "while True:\n",
        "    barang = input(\"Masukkan nama barang (atau ketik 'selesai' untuk keluar): \")\n",
        "    if barang.lower() == 'selesai':\n",
        "        break\n",
        "\n",
        "    harga = float(input(\"Masukkan harga barang: \"))\n",
        "    jumlah = int(input(\"Masukkan jumlah barang: \"))\n",
        "\n",
        "    subtotal = harga * jumlah\n",
        "    total_belanja += subtotal\n",
        "    keranjang.append((barang, harga, jumlah, subtotal))\n",
        "\n",
        "print(\"\\n===== STRUK BELANJA =====\")\n",
        "for item in keranjang:\n",
        "    print(f\"{item[0]} (Rp {item[1]} x {item[2]}) = Rp {item[3]}\")\n",
        "\n",
        "print(\"--------------------------\")\n",
        "print(f\"Total Belanja : Rp {total_belanja}\")\n",
        "\n",
        "bayar = float(input(\"Masukkan jumlah uang pembayaran: \"))\n",
        "kembalian = bayar - total_belanja\n",
        "\n",
        "print(f\"Uang dibayar  : Rp {bayar}\")\n",
        "print(f\"Kembalian     : Rp {kembalian}\")\n",
        "print(\"==========================\")\n",
        "print(\"Terima kasih telah berbelanja!\")\n"
      ],
      "metadata": {
        "colab": {
          "base_uri": "https://localhost:8080/"
        },
        "id": "VY1zio8mkRrh",
        "outputId": "9f6a8ea2-38b3-4e67-eb5e-2b9d1ade98bb"
      },
      "execution_count": 4,
      "outputs": [
        {
          "output_type": "stream",
          "name": "stdout",
          "text": [
            "===== PROGRAM KASIR SEDERHANA =====\n",
            "Masukkan nama barang (atau ketik 'selesai' untuk keluar): buku\n",
            "Masukkan harga barang: 60000\n",
            "Masukkan jumlah barang: 5\n",
            "Masukkan nama barang (atau ketik 'selesai' untuk keluar): selesai\n",
            "\n",
            "===== STRUK BELANJA =====\n",
            "buku (Rp 60000.0 x 5) = Rp 300000.0\n",
            "--------------------------\n",
            "Total Belanja : Rp 300000.0\n",
            "Masukkan jumlah uang pembayaran: 3000000\n",
            "Uang dibayar  : Rp 3000000.0\n",
            "Kembalian     : Rp 2700000.0\n",
            "==========================\n",
            "Terima kasih telah berbelanja!\n"
          ]
        }
      ]
    }
  ]
}