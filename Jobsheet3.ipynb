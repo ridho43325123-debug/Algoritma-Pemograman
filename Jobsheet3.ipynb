{
  "nbformat": 4,
  "nbformat_minor": 0,
  "metadata": {
    "colab": {
      "provenance": [],
      "authorship_tag": "ABX9TyPUB41wb2647A6A8jUof94Z",
      "include_colab_link": true
    },
    "kernelspec": {
      "name": "python3",
      "display_name": "Python 3"
    },
    "language_info": {
      "name": "python"
    }
  },
  "cells": [
    {
      "cell_type": "markdown",
      "metadata": {
        "id": "view-in-github",
        "colab_type": "text"
      },
      "source": [
        "<a href=\"https://colab.research.google.com/github/ridho43325123-debug/Algoritma-Pemograman/blob/main/Jobsheet3.ipynb\" target=\"_parent\"><img src=\"https://colab.research.google.com/assets/colab-badge.svg\" alt=\"Open In Colab\"/></a>"
      ]
    },
    {
      "cell_type": "markdown",
      "source": [
        "Pratikum 01\n"
      ],
      "metadata": {
        "id": "ABX1E9txdYTk"
      }
    },
    {
      "cell_type": "code",
      "execution_count": null,
      "metadata": {
        "colab": {
          "base_uri": "https://localhost:8080/"
        },
        "id": "2mYmxXO0ZXPj",
        "outputId": "262daea0-b01b-4808-9b60-e0e39f247add"
      },
      "outputs": [
        {
          "output_type": "stream",
          "name": "stdout",
          "text": [
            "Masukkan nilai ujian: 80\n",
            "Anda LULUS\n"
          ]
        }
      ],
      "source": [
        "nilai = int(input(\"Masukkan nilai ujian: \"))\n",
        "if nilai >= 60:\n",
        "    print(\"Anda LULUS\")\n",
        "\n",
        "\n",
        "\n"
      ]
    },
    {
      "cell_type": "markdown",
      "source": [
        "Pratikum 02"
      ],
      "metadata": {
        "id": "DhgLxQcYdUA8"
      }
    },
    {
      "cell_type": "code",
      "source": [
        "nilai = int(input(\"Masukkan nilai ujian: \"))\n",
        "if nilai >= 60:\n",
        "     print(\"Anda LULUS\")\n",
        "else:\n",
        "    print(\"Anda TIDAK LULUS\")\n"
      ],
      "metadata": {
        "colab": {
          "base_uri": "https://localhost:8080/"
        },
        "id": "PeGruvEGbkya",
        "outputId": "915fd32d-6461-4e93-899e-48a8cb449077"
      },
      "execution_count": null,
      "outputs": [
        {
          "output_type": "stream",
          "name": "stdout",
          "text": [
            "Masukkan nilai ujian: 85\n",
            "Anda LULUS\n"
          ]
        }
      ]
    },
    {
      "cell_type": "markdown",
      "source": [
        "Pratikum 03"
      ],
      "metadata": {
        "id": "16wjlTDIe7kZ"
      }
    },
    {
      "cell_type": "code",
      "source": [
        "nilai = int(input(\"Masukkan nilai akhir: \"))\n",
        "\n",
        "if nilai >= 85:\n",
        "    grade = \"A\"\n",
        "elif nilai >= 70:\n",
        "    grade = \"B\"\n",
        "elif nilai >= 55:\n",
        "    grade = \"C\"\n",
        "elif nilai >= 40:\n",
        "    grade = \"D\"\n",
        "else:\n",
        "    grade = \"E\"\n",
        "\n",
        "print(f\"Nilai Anda {nilai}, maka grade Anda = {grade}\")\n"
      ],
      "metadata": {
        "colab": {
          "base_uri": "https://localhost:8080/"
        },
        "id": "G8YgjOhIe9L_",
        "outputId": "bcc33dc2-f939-45bb-a844-2e9052e7c468"
      },
      "execution_count": null,
      "outputs": [
        {
          "output_type": "stream",
          "name": "stdout",
          "text": [
            "Masukkan nilai akhir: 67\n",
            "Nilai Anda 67, maka grade Anda = C\n"
          ]
        }
      ]
    },
    {
      "cell_type": "markdown",
      "source": [
        "Pratikum 04"
      ],
      "metadata": {
        "id": "HVnbSLTqfrVh"
      }
    },
    {
      "cell_type": "code",
      "source": [
        "ipk = float(input(\"Masukkan IPK: \"))\n",
        "sks = int(input(\"Masukkan jumlah SKS: \"))\n",
        "\n",
        "if ipk >= 3.0:\n",
        "    if sks >= 18:\n",
        "        print(\"Anda LAYAK mendapat beasiswa\")\n",
        "    else:\n",
        "        print(\"IPK memenuhi tapi SKS kurang\")\n",
        "else:\n",
        "    print(\"Anda TIDAK layak mendapat beasiswa\")\n"
      ],
      "metadata": {
        "colab": {
          "base_uri": "https://localhost:8080/"
        },
        "id": "ISitUiOcft8N",
        "outputId": "a680b976-8547-4246-9c5e-81f134c7f356"
      },
      "execution_count": null,
      "outputs": [
        {
          "output_type": "stream",
          "name": "stdout",
          "text": [
            "Masukkan IPK: 2.3\n",
            "Masukkan jumlah SKS: 21\n",
            "Anda TIDAK layak mendapat beasiswa\n"
          ]
        }
      ]
    },
    {
      "cell_type": "markdown",
      "source": [
        "Pratikum 05"
      ],
      "metadata": {
        "id": "tvDWaKivgYKZ"
      }
    },
    {
      "cell_type": "code",
      "source": [
        "menu = int(input(\"Pilih menu (1-3): \"))\n",
        "\n",
        "match menu:\n",
        "    case 1:\n",
        "        print(\"Anda memilih Nasi Goreng\")\n",
        "    case 2:\n",
        "        print(\"Anda memilih Mie Ayam\")\n",
        "    case 3:\n",
        "        print(\"Anda memilih Soto Ayam\")\n",
        "    case _:\n",
        "        print(\"Menu tidak tersedia\")\n"
      ],
      "metadata": {
        "colab": {
          "base_uri": "https://localhost:8080/"
        },
        "id": "3PDzbwvUgZxI",
        "outputId": "0cb15956-dc8a-42ae-d4ac-1537642088c3"
      },
      "execution_count": null,
      "outputs": [
        {
          "output_type": "stream",
          "name": "stdout",
          "text": [
            "Pilih menu (1-3): 1\n",
            "Anda memilih Nasi Goreng\n"
          ]
        }
      ]
    },
    {
      "cell_type": "code",
      "source": [
        "menu = int(input(\"Pilih menu (1-3): \"))\n",
        "\n",
        "match menu:\n",
        "    case 1:\n",
        "        print(\"Anda memilih Nasi Goreng\")\n",
        "    case 2:\n",
        "        print(\"Anda memilih Mie Ayam\")\n",
        "    case 3:\n",
        "        print(\"Anda memilih Soto Ayam\")\n",
        "    case _:\n",
        "        print(\"Menu tidak tersedia\")\n"
      ],
      "metadata": {
        "colab": {
          "base_uri": "https://localhost:8080/"
        },
        "id": "Flwyjh56pG7a",
        "outputId": "8b49bc25-ee46-4c91-c48d-bd46f9564b53"
      },
      "execution_count": null,
      "outputs": [
        {
          "output_type": "stream",
          "name": "stdout",
          "text": [
            "Pilih menu (1-3): 2\n",
            "Anda memilih Mie Ayam\n"
          ]
        }
      ]
    },
    {
      "cell_type": "markdown",
      "source": [
        "Pratikum 06"
      ],
      "metadata": {
        "id": "LhRy0h9bgvlO"
      }
    },
    {
      "cell_type": "code",
      "source": [
        "barang = input(\"Masukkan nama barang: \")\n",
        "harga = float(input(\"Masukkan harga barang: \"))\n",
        "jumlah = int(input(\"Masukkan jumlah barang: \"))\n",
        "\n",
        "total = harga * jumlah\n",
        "\n",
        "if total >= 500000:\n",
        "    diskon = 0.2\n",
        "elif total >= 250000:\n",
        "    diskon = 0.1\n",
        "else:\n",
        "    diskon = 0.13\n",
        "\n",
        "bayar = total - (total * diskon)\n",
        "\n",
        "print(\"\\n===== Struk Belanja =====\")\n",
        "print(f\"Barang : {barang}\")\n",
        "print(f\"Jumlah : {jumlah}\")\n",
        "print(f\"Total  : Rp {total}\")\n",
        "print(f\"Diskon : {diskon*100}%\")\n",
        "print(f\"Bayar  : Rp {bayar}\")\n"
      ],
      "metadata": {
        "colab": {
          "base_uri": "https://localhost:8080/"
        },
        "id": "ic_xKEBUgyGC",
        "outputId": "9c3bfcf1-e2fa-4953-84d2-e80fce1dcbdb"
      },
      "execution_count": null,
      "outputs": [
        {
          "output_type": "stream",
          "name": "stdout",
          "text": [
            "Masukkan nama barang: Tas\n",
            "Masukkan harga barang: 200000\n",
            "Masukkan jumlah barang: 3\n",
            "\n",
            "===== Struk Belanja =====\n",
            "Barang : Tas\n",
            "Jumlah : 3\n",
            "Total  : Rp 600000.0\n",
            "Diskon : 20.0%\n",
            "Bayar  : Rp 480000.0\n"
          ]
        }
      ]
    },
    {
      "cell_type": "code",
      "source": [
        "88barang = input(\"Masukkan nama barang: \")\n",
        "harga = float(input(\"Masukkan harga barang: \"))\n",
        "jumlah = int(input(\"Masukkan jumlah barang: \"))\n",
        "\n",
        "total = harga * jumlah\n",
        "\n",
        "print(\"\\n===== Struk Belanja =====\")\n",
        "print(f\"Barang : {barang}\")\n",
        "print(f\"Jumlah : {jumlah}\")\n",
        "print(f\"Total  : Rp {total}\")\n",
        "print(f\"Bayar  : Rp {total}\")\n"
      ],
      "metadata": {
        "colab": {
          "base_uri": "https://localhost:8080/"
        },
        "id": "81RG3NWwj-my",
        "outputId": "676322aa-1040-460e-ee10-5fcc2c3cb570"
      },
      "execution_count": null,
      "outputs": [
        {
          "output_type": "stream",
          "name": "stdout",
          "text": [
            "Masukkan nama barang: pulpen\n",
            "Masukkan harga barang: 5000\n",
            "Masukkan jumlah barang: 3\n",
            "\n",
            "===== Struk Belanja =====\n",
            "Barang : pulpen\n",
            "Jumlah : 3\n",
            "Total  : Rp 15000.0\n",
            "Bayar  : Rp 15000.0\n"
          ]
        }
      ]
    },
    {
      "cell_type": "code",
      "source": [
        "print(\"===== PROGRAM KASIR SEDERHANA =====\")\n",
        "\n",
        "total_belanja = 0\n",
        "keranjang = []\n",
        "\n",
        "while True:\n",
        "    barang = input(\"Masukkan nama barang (atau ketik 'selesai' untuk keluar): \")\n",
        "    if barang.lower() == 'selesai':\n",
        "        break\n",
        "\n",
        "    harga = float(input(\"Masukkan harga barang: \"))\n",
        "    jumlah = int(input(\"Masukkan jumlah barang: \"))\n",
        "\n",
        "    subtotal = harga * jumlah\n",
        "    total_belanja += subtotal\n",
        "    keranjang.append((barang, harga, jumlah, subtotal))\n",
        "\n",
        "print(\"\\n===== STRUK BELANJA =====\")\n",
        "for item in keranjang:\n",
        "    print(f\"{item[0]} (Rp {item[1]} x {item[2]}) = Rp {item[3]}\")\n",
        "\n",
        "print(\"--------------------------\")\n",
        "print(f\"Total Belanja : Rp {total_belanja}\")\n",
        "\n",
        "bayar = float(input(\"Masukkan jumlah uang pembayaran: \"))\n",
        "kembalian = bayar - total_belanja\n",
        "\n",
        "print(f\"Uang dibayar  : Rp {bayar}\")\n",
        "print(f\"Kembalian     : Rp {kembalian}\")\n",
        "print(\"==========================\")\n",
        "print(\"Terima kasih telah berbelanja!\")\n"
      ],
      "metadata": {
        "colab": {
          "base_uri": "https://localhost:8080/"
        },
        "id": "VY1zio8mkRrh",
        "outputId": "9f6a8ea2-38b3-4e67-eb5e-2b9d1ade98bb"
      },
      "execution_count": null,
      "outputs": [
        {
          "output_type": "stream",
          "name": "stdout",
          "text": [
            "===== PROGRAM KASIR SEDERHANA =====\n",
            "Masukkan nama barang (atau ketik 'selesai' untuk keluar): buku\n",
            "Masukkan harga barang: 60000\n",
            "Masukkan jumlah barang: 5\n",
            "Masukkan nama barang (atau ketik 'selesai' untuk keluar): selesai\n",
            "\n",
            "===== STRUK BELANJA =====\n",
            "buku (Rp 60000.0 x 5) = Rp 300000.0\n",
            "--------------------------\n",
            "Total Belanja : Rp 300000.0\n",
            "Masukkan jumlah uang pembayaran: 3000000\n",
            "Uang dibayar  : Rp 3000000.0\n",
            "Kembalian     : Rp 2700000.0\n",
            "==========================\n",
            "Terima kasih telah berbelanja!\n"
          ]
        }
      ]
    },
    {
      "cell_type": "markdown",
      "source": [
        "Penugasan Cek Bilangan Positif/Negatif/Nol"
      ],
      "metadata": {
        "id": "T0JWW_HYjzqe"
      }
    },
    {
      "cell_type": "code",
      "source": [
        "# Program untuk menentukan jenis bilangan\n",
        "\n",
        "# Membaca input dari pengguna\n",
        "bilangan = int(input(\"Masukkan sebuah bilangan bulat: \"))\n",
        "\n",
        "# Mengecek kondisi bilangan\n",
        "if bilangan > 0:\n",
        "    print(\"Bilangan tersebut adalah POSITIF.\")\n",
        "elif bilangan < 0:\n",
        "    print(\"Bilangan tersebut adalah NEGATIF.\")\n",
        "else:\n",
        "    print(\"Bilangan tersebut adalah NOL.\")\n",
        "\n"
      ],
      "metadata": {
        "colab": {
          "base_uri": "https://localhost:8080/"
        },
        "id": "WRCRoEzNkTQ6",
        "outputId": "3552801e-574b-4ef7-b3fe-7aac5477ee23"
      },
      "execution_count": 1,
      "outputs": [
        {
          "output_type": "stream",
          "name": "stdout",
          "text": [
            "Masukkan sebuah bilangan bulat: 30\n",
            "Bilangan tersebut adalah POSITIF.\n"
          ]
        }
      ]
    },
    {
      "cell_type": "markdown",
      "source": [
        "Penugasan Menentukan kategori usia"
      ],
      "metadata": {
        "id": "ymZZ8xe3kiOr"
      }
    },
    {
      "cell_type": "code",
      "source": [
        "# Program untuk menentukan kategori umur\n",
        "\n",
        "# Membaca input umur dari pengguna\n",
        "umur = int(input(\"Masukkan umur Anda: \"))\n",
        "\n",
        "# Menentukan kategori umur\n",
        "if umur < 5:\n",
        "    print(\"Kategori: Balita\")\n",
        "elif umur <= 11:\n",
        "    print(\"Kategori: Anak-anak\")\n",
        "elif umur <= 17:\n",
        "    print(\"Kategori: Remaja\")\n",
        "elif umur <= 59:\n",
        "    print(\"Kategori: Dewasa\")\n",
        "else:\n",
        "    print(\"Kategori: Lansia\")\n",
        "\n",
        "''"
      ],
      "metadata": {
        "colab": {
          "base_uri": "https://localhost:8080/"
        },
        "id": "fUUEjm3Zkgb-",
        "outputId": "ee1acdfe-4432-4148-db71-677d118b60e3"
      },
      "execution_count": 2,
      "outputs": [
        {
          "output_type": "stream",
          "name": "stdout",
          "text": [
            "Masukkan umur Anda: 18\n",
            "Kategori: Dewasa\n"
          ]
        }
      ]
    },
    {
      "cell_type": "markdown",
      "source": [
        "Penugasan Hitung tarif parkir"
      ],
      "metadata": {
        "id": "MgwMMITAk1Jq"
      }
    },
    {
      "cell_type": "code",
      "source": [
        "# Program menghitung tarif parkir kendaraan\n",
        "\n",
        "# Input lama parkir dari pengguna (dalam jam)\n",
        "jam = int(input(\"Masukkan lama parkir (jam): \"))\n",
        "\n",
        "# Menghitung tarif parkir\n",
        "if jam <= 2:\n",
        "    tarif = 5000\n",
        "else:\n",
        "    tarif = 5000 + (jam - 2) * 2000\n",
        "    if tarif > 20000:\n",
        "        tarif = 20000\n",
        "\n",
        "# Menampilkan hasil\n",
        "print(\"Tarif parkir: Rp\", tarif)\n",
        "\n"
      ],
      "metadata": {
        "colab": {
          "base_uri": "https://localhost:8080/"
        },
        "id": "GBOCegpfk9Ya",
        "outputId": "11b70c58-1093-4e5a-896d-d37541ad2059"
      },
      "execution_count": 3,
      "outputs": [
        {
          "output_type": "stream",
          "name": "stdout",
          "text": [
            "Masukkan lama parkir (jam): 5\n",
            "Tarif parkir: Rp 11000\n"
          ]
        }
      ]
    },
    {
      "cell_type": "markdown",
      "source": [
        "Penugasan Cek login sederhana"
      ],
      "metadata": {
        "id": "8aIDQ8khlLCx"
      }
    },
    {
      "cell_type": "code",
      "source": [
        "# Program pengecekan login sederhana\n",
        "\n",
        "# Input username dan password dari pengguna\n",
        "username = input(\"Masukkan username: \")\n",
        "password = input(\"Masukkan password: \")\n",
        "\n",
        "# Mengecek kecocokan username dan password\n",
        "if username == \"admin\" and password == \"1234\":\n",
        "    print(\"Login berhasil\")\n",
        "else:\n",
        "    print(\"Login gagal\")\n",
        "\n"
      ],
      "metadata": {
        "colab": {
          "base_uri": "https://localhost:8080/"
        },
        "id": "um0A3MaNlWCX",
        "outputId": "14b430ca-7620-4ae7-8e33-029af734a6ed"
      },
      "execution_count": 5,
      "outputs": [
        {
          "output_type": "stream",
          "name": "stdout",
          "text": [
            "Masukkan username: admin\n",
            "Masukkan password: 1234\n",
            "Login berhasil\n"
          ]
        }
      ]
    },
    {
      "cell_type": "markdown",
      "source": [
        "Penugasan One-Liner If (Cek Genap/Ganjil)"
      ],
      "metadata": {
        "id": "6r1Hd_QElcfV"
      }
    },
    {
      "cell_type": "code",
      "source": [
        "# Program menentukan bilangan genap atau ganjil (one-liner if)\n",
        "\n",
        "bilangan = int(input(\"Masukkan sebuah bilangan: \"))\n",
        "\n",
        "print(\"Genap\" if bilangan % 2 == 0 else \"Ganjil\")\n"
      ],
      "metadata": {
        "colab": {
          "base_uri": "https://localhost:8080/"
        },
        "id": "lQpvR2FPliAl",
        "outputId": "11ba8044-bed8-46a3-8a8d-9bb552188eb4"
      },
      "execution_count": 6,
      "outputs": [
        {
          "output_type": "stream",
          "name": "stdout",
          "text": [
            "Masukkan sebuah bilangan: 18\n",
            "Genap\n"
          ]
        }
      ]
    },
    {
      "cell_type": "markdown",
      "source": [
        "Penugasan Menu Restoran dengan Match-Case"
      ],
      "metadata": {
        "id": "2lV2ELKXlrLW"
      }
    },
    {
      "cell_type": "code",
      "source": [
        "# Program menu makanan menggunakan match-case\n",
        "\n",
        "# Menampilkan daftar menu\n",
        "print(\"=== Menu Makanan ===\")\n",
        "print(\"1 = Nasi Goreng\")\n",
        "print(\"2 = Mie Ayam\")\n",
        "print(\"3 = Soto Ayam\")\n",
        "\n",
        "# Input pilihan dari pengguna\n",
        "pilihan = int(input(\"Masukkan nomor menu pilihan Anda: \"))\n",
        "\n",
        "# Mengecek pilihan dengan match-case\n",
        "match pilihan:\n",
        "    case 1:\n",
        "        print(\"Anda memilih: Nasi Goreng\")\n",
        "    case 2:\n",
        "        print(\"Anda memilih: Mie Ayam\")\n",
        "    case 3:\n",
        "        print(\"Anda memilih: Soto Ayam\")\n",
        "    case _:\n",
        "        print(\"Menu tidak tersedia\")\n"
      ],
      "metadata": {
        "colab": {
          "base_uri": "https://localhost:8080/"
        },
        "id": "8DRvNlvClzAf",
        "outputId": "375e7a58-5e63-4fae-d208-9032560625dd"
      },
      "execution_count": 7,
      "outputs": [
        {
          "output_type": "stream",
          "name": "stdout",
          "text": [
            "=== Menu Makanan ===\n",
            "1 = Nasi Goreng\n",
            "2 = Mie Ayam\n",
            "3 = Soto Ayam\n",
            "Masukkan nomor menu pilihan Anda: 3\n",
            "Anda memilih: Soto Ayam\n"
          ]
        }
      ]
    },
    {
      "cell_type": "markdown",
      "source": [
        "Penugasan Studi Kasus Nyata – Program Penentuan Diskon"
      ],
      "metadata": {
        "id": "D6tT-IEfl9l_"
      }
    },
    {
      "cell_type": "code",
      "source": [
        "# Program menghitung diskon belanja dan menampilkan struk\n",
        "\n",
        "# Input data belanja\n",
        "nama_barang = input(\"Masukkan nama barang: \")\n",
        "jumlah = int(input(\"Masukkan jumlah barang: \"))\n",
        "harga = int(input(\"Masukkan harga satuan (Rp): \"))\n",
        "\n",
        "# Hitung total belanja\n",
        "total = jumlah * harga\n",
        "\n",
        "# Tentukan diskon berdasarkan total belanja\n",
        "if total >= 500000:\n",
        "    diskon_persen = 20\n",
        "elif total >= 250000:\n",
        "    diskon_persen = 10\n",
        "else:\n",
        "    diskon_persen = 0\n",
        "\n",
        "# Hitung nilai diskon dan total bayar\n",
        "diskon = total * diskon_persen / 100\n",
        "total_bayar = total - diskon\n",
        "\n",
        "# Tampilkan struk belanja\n",
        "print(\"\\n=== STRUK BELANJA ===\")\n",
        "print(f\"Nama Barang   : {nama_barang}\")\n",
        "print(f\"Jumlah Barang : {jumlah}\")\n",
        "print(f\"Harga Satuan  : Rp {harga:,}\")\n",
        "print(f\"Total Belanja : Rp {total:,}\")\n",
        "print(f\"Diskon ({diskon_persen}%) : Rp {diskon:,}\")\n",
        "print(f\"Jumlah Bayar  : Rp {total_bayar:,}\")\n",
        "print(\"======================\")\n",
        "print(\"Terima kasih telah berbelanja!\")\n"
      ],
      "metadata": {
        "colab": {
          "base_uri": "https://localhost:8080/"
        },
        "id": "7KRWWJsEmCId",
        "outputId": "6ca2d03d-224d-4a1e-80b0-93b8a61f00f1"
      },
      "execution_count": 8,
      "outputs": [
        {
          "output_type": "stream",
          "name": "stdout",
          "text": [
            "Masukkan nama barang: lemari\n",
            "Masukkan jumlah barang: 5\n",
            "Masukkan harga satuan (Rp): 200000\n",
            "\n",
            "=== STRUK BELANJA ===\n",
            "Nama Barang   : lemari\n",
            "Jumlah Barang : 5\n",
            "Harga Satuan  : Rp 200,000\n",
            "Total Belanja : Rp 1,000,000\n",
            "Diskon (20%) : Rp 200,000.0\n",
            "Jumlah Bayar  : Rp 800,000.0\n",
            "======================\n",
            "Terima kasih telah berbelanja!\n"
          ]
        }
      ]
    }
  ]
}