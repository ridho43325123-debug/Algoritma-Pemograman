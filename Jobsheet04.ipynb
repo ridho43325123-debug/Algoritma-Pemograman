{
  "cells": [
    {
      "cell_type": "markdown",
      "metadata": {
        "id": "view-in-github",
        "colab_type": "text"
      },
      "source": [
        "<a href=\"https://colab.research.google.com/github/ridho43325123-debug/Algoritma-Pemograman/blob/main/Jobsheet04.ipynb\" target=\"_parent\"><img src=\"https://colab.research.google.com/assets/colab-badge.svg\" alt=\"Open In Colab\"/></a>"
      ]
    },
    {
      "cell_type": "markdown",
      "source": [
        "Pratrikum 01"
      ],
      "metadata": {
        "id": "CHTDqpN6E60T"
      }
    },
    {
      "cell_type": "code",
      "source": [
        "for i in range(1, 6):\n",
        "  print(i)\n"
      ],
      "metadata": {
        "colab": {
          "base_uri": "https://localhost:8080/"
        },
        "id": "b_nAN8lkE_Yb",
        "outputId": "fae945c2-d2c4-4e8d-acfb-28b13da46939"
      },
      "execution_count": null,
      "outputs": [
        {
          "output_type": "stream",
          "name": "stdout",
          "text": [
            "1\n",
            "2\n",
            "3\n",
            "4\n",
            "5\n"
          ]
        }
      ]
    },
    {
      "cell_type": "markdown",
      "source": [
        "Pratikum 02"
      ],
      "metadata": {
        "id": "-3-80N5_FJxn"
      }
    },
    {
      "cell_type": "code",
      "source": [
        "n = int(input(\"Masukkan angka: \"))\n",
        "while n > 0:\n",
        "    print(n)\n",
        "    n -= 1\n",
        "\n"
      ],
      "metadata": {
        "colab": {
          "base_uri": "https://localhost:8080/"
        },
        "id": "JxobWd_rFLcC",
        "outputId": "8c59d6d3-9951-4ce1-c783-eaddf8f36043"
      },
      "execution_count": null,
      "outputs": [
        {
          "output_type": "stream",
          "name": "stdout",
          "text": [
            "Masukkan angka: 5\n",
            "5\n",
            "4\n",
            "3\n",
            "2\n",
            "1\n"
          ]
        }
      ]
    },
    {
      "cell_type": "markdown",
      "source": [
        "Pratikum 03\n"
      ],
      "metadata": {
        "id": "9ZZFL5a6GXq7"
      }
    },
    {
      "cell_type": "code",
      "source": [
        "for i in range(1, 5):\n",
        "  for j in range(i):\n",
        "    print(\"*\", end=\"\")\n",
        "  print()"
      ],
      "metadata": {
        "colab": {
          "base_uri": "https://localhost:8080/"
        },
        "id": "enuQh7VnGaUu",
        "outputId": "54decd10-eec7-4883-be63-92dd9de07e07"
      },
      "execution_count": null,
      "outputs": [
        {
          "output_type": "stream",
          "name": "stdout",
          "text": [
            "*\n",
            "**\n",
            "***\n",
            "****\n",
            "*****\n"
          ]
        }
      ]
    },
    {
      "cell_type": "markdown",
      "source": [
        "Pratikum 04"
      ],
      "metadata": {
        "id": "jAbM0CufG6-8"
      }
    },
    {
      "cell_type": "code",
      "source": [
        "for i in range(1, 10):\n",
        "    if i % 2 == 1:\n",
        "        continue\n",
        "    print(i)\n"
      ],
      "metadata": {
        "colab": {
          "base_uri": "https://localhost:8080/"
        },
        "id": "_kPn-GAcG-mk",
        "outputId": "5483d164-79f3-490e-9a4d-7e0060a41bc3"
      },
      "execution_count": null,
      "outputs": [
        {
          "output_type": "stream",
          "name": "stdout",
          "text": [
            "2\n",
            "4\n",
            "6\n",
            "8\n"
          ]
        }
      ]
    },
    {
      "cell_type": "markdown",
      "source": [
        "Pratikum o5"
      ],
      "metadata": {
        "id": "f5Q_0apcH8oQ"
      }
    },
    {
      "cell_type": "code",
      "source": [
        "data = {\"Nama\": \"Andi\", \"Umur\": 20, \"Prodi\": \"TRK\"}\n",
        "for k, v in data.items():\n",
        "     print(k, \":\", v)\n",
        "\n"
      ],
      "metadata": {
        "colab": {
          "base_uri": "https://localhost:8080/"
        },
        "id": "T2p2T-66IIOl",
        "outputId": "4fd04e36-4f41-4d9d-bc6f-e90705e44b1f"
      },
      "execution_count": null,
      "outputs": [
        {
          "output_type": "stream",
          "name": "stdout",
          "text": [
            "Nama : Andi\n",
            "Umur : 20\n",
            "Prodi : TRK\n"
          ]
        }
      ]
    },
    {
      "cell_type": "markdown",
      "source": [
        "Pratikum 06"
      ],
      "metadata": {
        "id": "oR2s7XxsIST1"
      }
    },
    {
      "cell_type": "markdown",
      "source": [],
      "metadata": {
        "id": "_mfkMISZIUDA"
      }
    },
    {
      "cell_type": "code",
      "source": [
        " daftar = [\"Andi\", \"Budi\", \"Cici\"]\n",
        "\n",
        " for i, nama in enumerate(daftar, start=1):\n",
        "     print(i, nama)\n"
      ],
      "metadata": {
        "colab": {
          "base_uri": "https://localhost:8080/"
        },
        "id": "ejddL1-RIH7J",
        "outputId": "c50420e9-a0d2-4c53-dba8-973f2a8b33d0"
      },
      "execution_count": null,
      "outputs": [
        {
          "output_type": "stream",
          "name": "stdout",
          "text": [
            "1 Andi\n",
            "2 Budi\n",
            "3 Cici\n"
          ]
        }
      ]
    },
    {
      "cell_type": "markdown",
      "source": [
        "Pratikum 07"
      ],
      "metadata": {
        "id": "MouPJHdDI7iE"
      }
    },
    {
      "cell_type": "code",
      "source": [
        "total = 0\n",
        "\n",
        "while True:\n",
        "    barang = input(\"Masukkan nama barang (ketik 'selesai' untuk berhenti): \")\n",
        "    if barang.lower() == \"selesai\":\n",
        "        break\n",
        "\n",
        "    harga = float(input(f\"Masukkan harga {barang}: \"))\n",
        "    jumlah = int(input(f\"Masukkan jumlah {barang}: \"))\n",
        "\n",
        "    subtotal = harga * jumlah\n",
        "    total += subtotal\n",
        "\n",
        "print(\"\\n===== Struk Belanja =====\")\n",
        "print(f\"Total Belanja : Rp {total}\")\n"
      ],
      "metadata": {
        "colab": {
          "base_uri": "https://localhost:8080/"
        },
        "id": "nMuBbtkII9fS",
        "outputId": "abd95df8-64f8-4525-d78a-d83d0e44c26d"
      },
      "execution_count": null,
      "outputs": [
        {
          "output_type": "stream",
          "name": "stdout",
          "text": [
            "Masukkan nama barang (ketik 'selesai' untuk berhenti): buku\n",
            "Masukkan harga buku: 50000\n",
            "Masukkan jumlah buku: 2\n",
            "Masukkan nama barang (ketik 'selesai' untuk berhenti): pulpen\n",
            "Masukkan harga pulpen: 5000\n",
            "Masukkan jumlah pulpen: 3\n",
            "Masukkan nama barang (ketik 'selesai' untuk berhenti): selesai\n",
            "\n",
            "===== Struk Belanja =====\n",
            "Total Belanja : Rp 115000.0\n"
          ]
        }
      ]
    },
    {
      "cell_type": "markdown",
      "source": [
        "Penugasan 01"
      ],
      "metadata": {
        "id": "-ji1BGbPLeyP"
      }
    },
    {
      "cell_type": "code",
      "source": [
        "for i in range(3, 31, 3):\n",
        "    print(i)\n"
      ],
      "metadata": {
        "id": "34P7vZXoLjqK",
        "outputId": "27250dde-9bc2-4b2d-9405-4ad81b2a2dc3",
        "colab": {
          "base_uri": "https://localhost:8080/"
        }
      },
      "execution_count": null,
      "outputs": [
        {
          "output_type": "stream",
          "name": "stdout",
          "text": [
            "3\n",
            "6\n",
            "9\n",
            "12\n",
            "15\n",
            "18\n",
            "21\n",
            "24\n",
            "27\n",
            "30\n"
          ]
        }
      ]
    },
    {
      "cell_type": "markdown",
      "source": [
        "Penugasan 02"
      ],
      "metadata": {
        "id": "6VOr9UPtLlhM"
      }
    },
    {
      "cell_type": "code",
      "source": [
        "n = int(input(\"Masukkan bilangan: \"))\n",
        "faktorial = 1\n",
        "\n",
        "i = 1\n",
        "while i <= n:\n",
        "    faktorial *= i\n",
        "    i += 1\n",
        "\n",
        "print(f\"Faktorial dari {n} adalah {faktorial}\")\n",
        "\n"
      ],
      "metadata": {
        "id": "-fCnNQDSLnIB",
        "outputId": "acc863dc-1d3e-40a9-fe78-5691dcbaa2bb",
        "colab": {
          "base_uri": "https://localhost:8080/"
        }
      },
      "execution_count": null,
      "outputs": [
        {
          "output_type": "stream",
          "name": "stdout",
          "text": [
            "Masukkan bilangan: 24\n",
            "Faktorial dari 24 adalah 620448401733239439360000\n"
          ]
        }
      ]
    },
    {
      "cell_type": "markdown",
      "source": [
        "Penugasan 03"
      ],
      "metadata": {
        "id": "_LPYAaDBLwaZ"
      }
    },
    {
      "cell_type": "code",
      "source": [
        "tinggi = 5\n",
        "\n",
        "for i in range(tinggi, 0, -1):\n",
        "    for j in range(i):\n",
        "        print(\"*\", end=\"\")\n",
        "    print()\n"
      ],
      "metadata": {
        "id": "MSUsAewTLyHD",
        "outputId": "d89efab9-9131-4a0f-d8b2-ed45ac49bd7b",
        "colab": {
          "base_uri": "https://localhost:8080/"
        }
      },
      "execution_count": null,
      "outputs": [
        {
          "output_type": "stream",
          "name": "stdout",
          "text": [
            "*****\n",
            "****\n",
            "***\n",
            "**\n",
            "*\n"
          ]
        }
      ]
    },
    {
      "cell_type": "markdown",
      "source": [
        "Penugasan 04"
      ],
      "metadata": {
        "id": "_BqEOq9ZL6Bt"
      }
    },
    {
      "cell_type": "code",
      "source": [
        "n = int(input(\"Masukkan bilangan: \"))\n",
        "\n",
        "if n < 2:\n",
        "    print(f\"{n} bukan bilangan prima\")\n",
        "else:\n",
        "    i = 2\n",
        "    while i < n:\n",
        "        if n % i == 0:\n",
        "            print(f\"{n} bukan bilangan prima (habis dibagi {i})\")\n",
        "            break\n",
        "        i += 1\n",
        "    else:\n",
        "        print(f\"{n} adalah bilangan prima\")\n"
      ],
      "metadata": {
        "id": "9Os1ef1vMFee",
        "outputId": "5a366a50-d840-4526-86b2-98727bab74e0",
        "colab": {
          "base_uri": "https://localhost:8080/"
        }
      },
      "execution_count": null,
      "outputs": [
        {
          "output_type": "stream",
          "name": "stdout",
          "text": [
            "Masukkan bilangan: 4\n",
            "4 bukan bilangan prima (habis dibagi 2)\n"
          ]
        }
      ]
    },
    {
      "cell_type": "markdown",
      "source": [
        "Penugasan 05"
      ],
      "metadata": {
        "id": "t90jM5pFMJAr"
      }
    },
    {
      "cell_type": "code",
      "source": [
        "for i in range(1, 21):\n",
        "    if i % 2 != 0:\n",
        "        continue\n",
        "    print(i)\n"
      ],
      "metadata": {
        "id": "n8YWRdkAMKgE",
        "outputId": "0bc6a0e7-1d2c-4793-ff44-45499f06f315",
        "colab": {
          "base_uri": "https://localhost:8080/"
        }
      },
      "execution_count": null,
      "outputs": [
        {
          "output_type": "stream",
          "name": "stdout",
          "text": [
            "2\n",
            "4\n",
            "6\n",
            "8\n",
            "10\n",
            "12\n",
            "14\n",
            "16\n",
            "18\n",
            "20\n"
          ]
        }
      ]
    },
    {
      "cell_type": "markdown",
      "source": [
        "Penugasan 06"
      ],
      "metadata": {
        "id": "SKaPzg-6MT4-"
      }
    },
    {
      "cell_type": "code",
      "source": [
        "mahasiswa = {\"Nama\": \"Budi\", \"Umur\": 21, \"Prodi\": \"Teknik Komputer\"}\n",
        "\n",
        "for key, value in mahasiswa.items():\n",
        "    print(f\"{key} : {value}\")\n"
      ],
      "metadata": {
        "id": "ebulsI9FMVft",
        "outputId": "efc2d4b1-d68e-4dc0-df03-01a9003551ba",
        "colab": {
          "base_uri": "https://localhost:8080/"
        }
      },
      "execution_count": null,
      "outputs": [
        {
          "output_type": "stream",
          "name": "stdout",
          "text": [
            "Nama : Budi\n",
            "Umur : 21\n",
            "Prodi : Teknik Komputer\n"
          ]
        }
      ]
    },
    {
      "cell_type": "markdown",
      "source": [
        "Penugasan 07"
      ],
      "metadata": {
        "id": "QxvRjijtMi0j"
      }
    },
    {
      "cell_type": "code",
      "source": [
        "barang = [\"Buku\", \"Pulpen\", \"Tas\"]\n",
        "\n",
        "for i, item in enumerate(barang, start=1):\n",
        "    print(f\"{i} {item}\")\n"
      ],
      "metadata": {
        "id": "NJNL60VpMk3J",
        "outputId": "2b147608-291f-4ee6-a733-898c8e82d11b",
        "colab": {
          "base_uri": "https://localhost:8080/"
        }
      },
      "execution_count": null,
      "outputs": [
        {
          "output_type": "stream",
          "name": "stdout",
          "text": [
            "1 Buku\n",
            "2 Pulpen\n",
            "3 Tas\n"
          ]
        }
      ]
    },
    {
      "cell_type": "markdown",
      "source": [
        "Penugasan 08"
      ],
      "metadata": {
        "id": "E8vMJgsBMoUp"
      }
    },
    {
      "cell_type": "code",
      "source": [
        "total = 0\n",
        "\n",
        "while True:\n",
        "    barang = input(\"Masukkan nama barang (ketik 'selesai' untuk berhenti): \")\n",
        "    if barang.lower() == \"selesai\":\n",
        "        break\n",
        "\n",
        "    harga = float(input(f\"Masukkan harga {barang}: \"))\n",
        "    jumlah = int(input(f\"Masukkan jumlah {barang}: \"))\n",
        "\n",
        "    subtotal = harga * jumlah\n",
        "    total += subtotal\n",
        "\n",
        "print(\"\\n===== STRUK BELANJA =====\")\n",
        "print(f\"Total Belanja : Rp {total:,.0f}\")\n",
        "\n",
        "if total >= 200000:\n",
        "    diskon = total * 0.10\n",
        "    total_akhir = total - diskon\n",
        "    print(f\"Diskon (10%) : Rp {diskon:,.0f}\")\n",
        "    print(f\"Total Bayar  : Rp {total_akhir:,.0f}\")\n",
        "else:\n",
        "    print(\"Diskon (0%)  : Rp 0\")\n",
        "    print(f\"Total Bayar  : Rp {total:,.0f}\")\n",
        "\n",
        "print(\"==========================\")\n",
        "print(\"Terima kasih sudah berbelanja!\")\n"
      ],
      "metadata": {
        "id": "UlkzvKABMpr4",
        "outputId": "466c907b-d735-49b2-85a0-1de3448e3167",
        "colab": {
          "base_uri": "https://localhost:8080/"
        }
      },
      "execution_count": null,
      "outputs": [
        {
          "output_type": "stream",
          "name": "stdout",
          "text": [
            "Masukkan nama barang (ketik 'selesai' untuk berhenti): mesin cuci\n",
            "Masukkan harga mesin cuci: 400000\n",
            "Masukkan jumlah mesin cuci: 4\n",
            "Masukkan nama barang (ketik 'selesai' untuk berhenti): selesai\n",
            "\n",
            "===== STRUK BELANJA =====\n",
            "Total Belanja : Rp 1,600,000\n",
            "Diskon (10%) : Rp 160,000\n",
            "Total Bayar  : Rp 1,440,000\n",
            "==========================\n",
            "Terima kasih sudah berbelanja!\n"
          ]
        }
      ]
    }
  ],
  "metadata": {
    "colab": {
      "provenance": [],
      "include_colab_link": true
    },
    "kernelspec": {
      "display_name": "Python 3",
      "name": "python3"
    }
  },
  "nbformat": 4,
  "nbformat_minor": 0
}